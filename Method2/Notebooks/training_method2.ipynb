{
  "cells": [
    {
      "cell_type": "code",
      "execution_count": null,
      "id": "91c2aaaf",
      "metadata": {
        "id": "91c2aaaf"
      },
      "outputs": [],
      "source": [
        "import pandas as pd\n",
        "import numpy as np\n",
        "import matplotlib.pyplot as plt\n",
        "import seaborn as sns\n",
        "from sklearn.preprocessing import MinMaxScaler\n",
        "from imblearn.over_sampling import SMOTE\n",
        "from collections import Counter\n",
        "from sklearn.model_selection import train_test_split\n",
        "from sklearn.neighbors import KNeighborsClassifier\n",
        "from sklearn.tree import DecisionTreeClassifier\n",
        "from sklearn.linear_model import LogisticRegression\n",
        "from sklearn.naive_bayes import GaussianNB\n",
        "from sklearn.svm import SVC\n",
        "from xgboost import XGBClassifier\n",
        "from sklearn.ensemble import RandomForestClassifier\n",
        "from sklearn.ensemble import VotingClassifier\n",
        "from sklearn.metrics import classification_report,confusion_matrix, accuracy_score, roc_auc_score"
      ]
    },
    {
      "cell_type": "code",
      "execution_count": null,
      "id": "o1p61LfTT3H8",
      "metadata": {
        "colab": {
          "base_uri": "https://localhost:8080/"
        },
        "id": "o1p61LfTT3H8",
        "outputId": "8dc420fa-6251-4d9e-9421-9d5efb2c8a33"
      },
      "outputs": [
        {
          "output_type": "stream",
          "name": "stdout",
          "text": [
            "Mounted at /content/drive\n"
          ]
        }
      ],
      "source": [
        "from google.colab import drive\n",
        "drive.mount('/content/drive')"
      ]
    },
    {
      "cell_type": "code",
      "execution_count": null,
      "id": "5932247c",
      "metadata": {
        "id": "5932247c"
      },
      "outputs": [],
      "source": [
        "w1 = pd.read_csv(\"/content/drive/MyDrive/Mitacs project/dataset/Datafull/features_week1.csv\")\n",
        "w12 = pd.read_csv(\"/content/drive/MyDrive/Mitacs project/dataset/Datafull/features_week12.csv\")\n",
        "w123 = pd.read_csv(\"/content/drive/MyDrive/Mitacs project/dataset/Datafull/features_week123.csv\")\n",
        "w1234 = pd.read_csv(\"/content/drive/MyDrive/Mitacs project/dataset/Datafull/features_week1234.csv\")"
      ]
    },
    {
      "cell_type": "code",
      "execution_count": null,
      "id": "f07d6a8e",
      "metadata": {
        "colab": {
          "base_uri": "https://localhost:8080/",
          "height": 505
        },
        "id": "f07d6a8e",
        "outputId": "78329ee9-c72d-4012-be40-1f53a17ce5a4"
      },
      "outputs": [
        {
          "output_type": "execute_result",
          "data": {
            "text/plain": [
              "      Unnamed: 0  enrollment_id                          username  \\\n",
              "0              0              3  1qXC7Fjbwp66GPQc6pHLfEuO8WKozxG4   \n",
              "1              1              5  p1Mp7WkVfzUijX0peVQKSHbgd5pXyl4c   \n",
              "2              2              7  I1KwJ6EdCZnEPLfC8Q7yWpIkLOHn7h02   \n",
              "3              3             45  5Tz6BGN7p1lkmdoopAY1Z5ufYTrUsi9E   \n",
              "4              4             49  2oTvbzieHn2y5oozeOgSnruqE6N0BtR5   \n",
              "...          ...            ...                               ...   \n",
              "8704        8704         199056  OGCl7FuINJMmIPxVehaSeriK0obhKOqa   \n",
              "8705        8705         199057  AW3qB37tEUxBhbQEUxhofJkaUbKF4F7i   \n",
              "8706        8706         199058  VeLCqoeC0RO3eUOAMmBgbUdlxxqFnwbN   \n",
              "8707        8707         199069  M45QNJ6951iGJajsprAeFVhHViiX50AV   \n",
              "8708        8708         199078  pXGBcTffNYWAUeYw1RFCIuTgQsIvI4OJ   \n",
              "\n",
              "                             course_id  no_of_objects1  bno_access1  \\\n",
              "0     7GRhBDsirIGkRZBtSMEzNTyDr2JQm4xx              13            9   \n",
              "1     7GRhBDsirIGkRZBtSMEzNTyDr2JQm4xx              34           53   \n",
              "2     7GRhBDsirIGkRZBtSMEzNTyDr2JQm4xx              30           59   \n",
              "3     7GRhBDsirIGkRZBtSMEzNTyDr2JQm4xx               3            2   \n",
              "4     7GRhBDsirIGkRZBtSMEzNTyDr2JQm4xx              28          102   \n",
              "...                                ...             ...          ...   \n",
              "8704  SpATywNh6bZuzm8s1ceuBUnMUAeoAHHw               8            6   \n",
              "8705  bWdj2GDclj5ofokWjzoa5jAwMkxCykd6               2            0   \n",
              "8706  SpATywNh6bZuzm8s1ceuBUnMUAeoAHHw               4            4   \n",
              "8707  A3fsA9Zfv1X2fVEQhTw51lKENdNrEqT3              22           12   \n",
              "8708  G8EPVSXsOYB5YQWZGiz1aVq5Pgr2GrQu               5            2   \n",
              "\n",
              "      bno_pageclose1  bno_problem1  bno_video1  bno_discussion1  ...  \\\n",
              "0                  2            14           1                0  ...   \n",
              "1                 20            45          13                5  ...   \n",
              "2                 20            34          22                0  ...   \n",
              "3                  1             0           0                0  ...   \n",
              "4                 52            16          15              504  ...   \n",
              "...              ...           ...         ...              ...  ...   \n",
              "8704               4             0           3                0  ...   \n",
              "8705               0             0           0                4  ...   \n",
              "8706               0             0           0                0  ...   \n",
              "8707              10             0           9                5  ...   \n",
              "8708               1             0           1                0  ...   \n",
              "\n",
              "      browser_problem1  browser_video1  server_access1  server_discussion1  \\\n",
              "0                   14               1               5                   0   \n",
              "1                   37              13              25                   5   \n",
              "2                   31              22              26                   0   \n",
              "3                    0               0               2                   0   \n",
              "4                    8              15              85                 504   \n",
              "...                ...             ...             ...                 ...   \n",
              "8704                 0               3               6                   0   \n",
              "8705                 0               0               0                   4   \n",
              "8706                 0               0               4                   0   \n",
              "8707                 0               9              12                   5   \n",
              "8708                 0               1               2                   0   \n",
              "\n",
              "      server_problem1  server_navigate1  server_wiki1  bno_browser1  \\\n",
              "0                   0                 5             0            21   \n",
              "1                   8                11             0            98   \n",
              "2                   3                10             0           106   \n",
              "3                   0                 1             0             1   \n",
              "4                   8                62             0            92   \n",
              "...               ...               ...           ...           ...   \n",
              "8704                0                 1             0             7   \n",
              "8705                0                 1             0             0   \n",
              "8706                0                 2             0             0   \n",
              "8707                0                 5             1            19   \n",
              "8708                0                 2             0             2   \n",
              "\n",
              "      bno_server1  label  \n",
              "0              10      0  \n",
              "1              49      0  \n",
              "2              39      1  \n",
              "3               3      0  \n",
              "4             659      0  \n",
              "...           ...    ...  \n",
              "8704            7      1  \n",
              "8705            5      1  \n",
              "8706            6      0  \n",
              "8707           23      1  \n",
              "8708            4      0  \n",
              "\n",
              "[8709 rows x 28 columns]"
            ],
            "text/html": [
              "\n",
              "  <div id=\"df-f9319372-c93f-4655-941d-132464248480\">\n",
              "    <div class=\"colab-df-container\">\n",
              "      <div>\n",
              "<style scoped>\n",
              "    .dataframe tbody tr th:only-of-type {\n",
              "        vertical-align: middle;\n",
              "    }\n",
              "\n",
              "    .dataframe tbody tr th {\n",
              "        vertical-align: top;\n",
              "    }\n",
              "\n",
              "    .dataframe thead th {\n",
              "        text-align: right;\n",
              "    }\n",
              "</style>\n",
              "<table border=\"1\" class=\"dataframe\">\n",
              "  <thead>\n",
              "    <tr style=\"text-align: right;\">\n",
              "      <th></th>\n",
              "      <th>Unnamed: 0</th>\n",
              "      <th>enrollment_id</th>\n",
              "      <th>username</th>\n",
              "      <th>course_id</th>\n",
              "      <th>no_of_objects1</th>\n",
              "      <th>bno_access1</th>\n",
              "      <th>bno_pageclose1</th>\n",
              "      <th>bno_problem1</th>\n",
              "      <th>bno_video1</th>\n",
              "      <th>bno_discussion1</th>\n",
              "      <th>...</th>\n",
              "      <th>browser_problem1</th>\n",
              "      <th>browser_video1</th>\n",
              "      <th>server_access1</th>\n",
              "      <th>server_discussion1</th>\n",
              "      <th>server_problem1</th>\n",
              "      <th>server_navigate1</th>\n",
              "      <th>server_wiki1</th>\n",
              "      <th>bno_browser1</th>\n",
              "      <th>bno_server1</th>\n",
              "      <th>label</th>\n",
              "    </tr>\n",
              "  </thead>\n",
              "  <tbody>\n",
              "    <tr>\n",
              "      <th>0</th>\n",
              "      <td>0</td>\n",
              "      <td>3</td>\n",
              "      <td>1qXC7Fjbwp66GPQc6pHLfEuO8WKozxG4</td>\n",
              "      <td>7GRhBDsirIGkRZBtSMEzNTyDr2JQm4xx</td>\n",
              "      <td>13</td>\n",
              "      <td>9</td>\n",
              "      <td>2</td>\n",
              "      <td>14</td>\n",
              "      <td>1</td>\n",
              "      <td>0</td>\n",
              "      <td>...</td>\n",
              "      <td>14</td>\n",
              "      <td>1</td>\n",
              "      <td>5</td>\n",
              "      <td>0</td>\n",
              "      <td>0</td>\n",
              "      <td>5</td>\n",
              "      <td>0</td>\n",
              "      <td>21</td>\n",
              "      <td>10</td>\n",
              "      <td>0</td>\n",
              "    </tr>\n",
              "    <tr>\n",
              "      <th>1</th>\n",
              "      <td>1</td>\n",
              "      <td>5</td>\n",
              "      <td>p1Mp7WkVfzUijX0peVQKSHbgd5pXyl4c</td>\n",
              "      <td>7GRhBDsirIGkRZBtSMEzNTyDr2JQm4xx</td>\n",
              "      <td>34</td>\n",
              "      <td>53</td>\n",
              "      <td>20</td>\n",
              "      <td>45</td>\n",
              "      <td>13</td>\n",
              "      <td>5</td>\n",
              "      <td>...</td>\n",
              "      <td>37</td>\n",
              "      <td>13</td>\n",
              "      <td>25</td>\n",
              "      <td>5</td>\n",
              "      <td>8</td>\n",
              "      <td>11</td>\n",
              "      <td>0</td>\n",
              "      <td>98</td>\n",
              "      <td>49</td>\n",
              "      <td>0</td>\n",
              "    </tr>\n",
              "    <tr>\n",
              "      <th>2</th>\n",
              "      <td>2</td>\n",
              "      <td>7</td>\n",
              "      <td>I1KwJ6EdCZnEPLfC8Q7yWpIkLOHn7h02</td>\n",
              "      <td>7GRhBDsirIGkRZBtSMEzNTyDr2JQm4xx</td>\n",
              "      <td>30</td>\n",
              "      <td>59</td>\n",
              "      <td>20</td>\n",
              "      <td>34</td>\n",
              "      <td>22</td>\n",
              "      <td>0</td>\n",
              "      <td>...</td>\n",
              "      <td>31</td>\n",
              "      <td>22</td>\n",
              "      <td>26</td>\n",
              "      <td>0</td>\n",
              "      <td>3</td>\n",
              "      <td>10</td>\n",
              "      <td>0</td>\n",
              "      <td>106</td>\n",
              "      <td>39</td>\n",
              "      <td>1</td>\n",
              "    </tr>\n",
              "    <tr>\n",
              "      <th>3</th>\n",
              "      <td>3</td>\n",
              "      <td>45</td>\n",
              "      <td>5Tz6BGN7p1lkmdoopAY1Z5ufYTrUsi9E</td>\n",
              "      <td>7GRhBDsirIGkRZBtSMEzNTyDr2JQm4xx</td>\n",
              "      <td>3</td>\n",
              "      <td>2</td>\n",
              "      <td>1</td>\n",
              "      <td>0</td>\n",
              "      <td>0</td>\n",
              "      <td>0</td>\n",
              "      <td>...</td>\n",
              "      <td>0</td>\n",
              "      <td>0</td>\n",
              "      <td>2</td>\n",
              "      <td>0</td>\n",
              "      <td>0</td>\n",
              "      <td>1</td>\n",
              "      <td>0</td>\n",
              "      <td>1</td>\n",
              "      <td>3</td>\n",
              "      <td>0</td>\n",
              "    </tr>\n",
              "    <tr>\n",
              "      <th>4</th>\n",
              "      <td>4</td>\n",
              "      <td>49</td>\n",
              "      <td>2oTvbzieHn2y5oozeOgSnruqE6N0BtR5</td>\n",
              "      <td>7GRhBDsirIGkRZBtSMEzNTyDr2JQm4xx</td>\n",
              "      <td>28</td>\n",
              "      <td>102</td>\n",
              "      <td>52</td>\n",
              "      <td>16</td>\n",
              "      <td>15</td>\n",
              "      <td>504</td>\n",
              "      <td>...</td>\n",
              "      <td>8</td>\n",
              "      <td>15</td>\n",
              "      <td>85</td>\n",
              "      <td>504</td>\n",
              "      <td>8</td>\n",
              "      <td>62</td>\n",
              "      <td>0</td>\n",
              "      <td>92</td>\n",
              "      <td>659</td>\n",
              "      <td>0</td>\n",
              "    </tr>\n",
              "    <tr>\n",
              "      <th>...</th>\n",
              "      <td>...</td>\n",
              "      <td>...</td>\n",
              "      <td>...</td>\n",
              "      <td>...</td>\n",
              "      <td>...</td>\n",
              "      <td>...</td>\n",
              "      <td>...</td>\n",
              "      <td>...</td>\n",
              "      <td>...</td>\n",
              "      <td>...</td>\n",
              "      <td>...</td>\n",
              "      <td>...</td>\n",
              "      <td>...</td>\n",
              "      <td>...</td>\n",
              "      <td>...</td>\n",
              "      <td>...</td>\n",
              "      <td>...</td>\n",
              "      <td>...</td>\n",
              "      <td>...</td>\n",
              "      <td>...</td>\n",
              "      <td>...</td>\n",
              "    </tr>\n",
              "    <tr>\n",
              "      <th>8704</th>\n",
              "      <td>8704</td>\n",
              "      <td>199056</td>\n",
              "      <td>OGCl7FuINJMmIPxVehaSeriK0obhKOqa</td>\n",
              "      <td>SpATywNh6bZuzm8s1ceuBUnMUAeoAHHw</td>\n",
              "      <td>8</td>\n",
              "      <td>6</td>\n",
              "      <td>4</td>\n",
              "      <td>0</td>\n",
              "      <td>3</td>\n",
              "      <td>0</td>\n",
              "      <td>...</td>\n",
              "      <td>0</td>\n",
              "      <td>3</td>\n",
              "      <td>6</td>\n",
              "      <td>0</td>\n",
              "      <td>0</td>\n",
              "      <td>1</td>\n",
              "      <td>0</td>\n",
              "      <td>7</td>\n",
              "      <td>7</td>\n",
              "      <td>1</td>\n",
              "    </tr>\n",
              "    <tr>\n",
              "      <th>8705</th>\n",
              "      <td>8705</td>\n",
              "      <td>199057</td>\n",
              "      <td>AW3qB37tEUxBhbQEUxhofJkaUbKF4F7i</td>\n",
              "      <td>bWdj2GDclj5ofokWjzoa5jAwMkxCykd6</td>\n",
              "      <td>2</td>\n",
              "      <td>0</td>\n",
              "      <td>0</td>\n",
              "      <td>0</td>\n",
              "      <td>0</td>\n",
              "      <td>4</td>\n",
              "      <td>...</td>\n",
              "      <td>0</td>\n",
              "      <td>0</td>\n",
              "      <td>0</td>\n",
              "      <td>4</td>\n",
              "      <td>0</td>\n",
              "      <td>1</td>\n",
              "      <td>0</td>\n",
              "      <td>0</td>\n",
              "      <td>5</td>\n",
              "      <td>1</td>\n",
              "    </tr>\n",
              "    <tr>\n",
              "      <th>8706</th>\n",
              "      <td>8706</td>\n",
              "      <td>199058</td>\n",
              "      <td>VeLCqoeC0RO3eUOAMmBgbUdlxxqFnwbN</td>\n",
              "      <td>SpATywNh6bZuzm8s1ceuBUnMUAeoAHHw</td>\n",
              "      <td>4</td>\n",
              "      <td>4</td>\n",
              "      <td>0</td>\n",
              "      <td>0</td>\n",
              "      <td>0</td>\n",
              "      <td>0</td>\n",
              "      <td>...</td>\n",
              "      <td>0</td>\n",
              "      <td>0</td>\n",
              "      <td>4</td>\n",
              "      <td>0</td>\n",
              "      <td>0</td>\n",
              "      <td>2</td>\n",
              "      <td>0</td>\n",
              "      <td>0</td>\n",
              "      <td>6</td>\n",
              "      <td>0</td>\n",
              "    </tr>\n",
              "    <tr>\n",
              "      <th>8707</th>\n",
              "      <td>8707</td>\n",
              "      <td>199069</td>\n",
              "      <td>M45QNJ6951iGJajsprAeFVhHViiX50AV</td>\n",
              "      <td>A3fsA9Zfv1X2fVEQhTw51lKENdNrEqT3</td>\n",
              "      <td>22</td>\n",
              "      <td>12</td>\n",
              "      <td>10</td>\n",
              "      <td>0</td>\n",
              "      <td>9</td>\n",
              "      <td>5</td>\n",
              "      <td>...</td>\n",
              "      <td>0</td>\n",
              "      <td>9</td>\n",
              "      <td>12</td>\n",
              "      <td>5</td>\n",
              "      <td>0</td>\n",
              "      <td>5</td>\n",
              "      <td>1</td>\n",
              "      <td>19</td>\n",
              "      <td>23</td>\n",
              "      <td>1</td>\n",
              "    </tr>\n",
              "    <tr>\n",
              "      <th>8708</th>\n",
              "      <td>8708</td>\n",
              "      <td>199078</td>\n",
              "      <td>pXGBcTffNYWAUeYw1RFCIuTgQsIvI4OJ</td>\n",
              "      <td>G8EPVSXsOYB5YQWZGiz1aVq5Pgr2GrQu</td>\n",
              "      <td>5</td>\n",
              "      <td>2</td>\n",
              "      <td>1</td>\n",
              "      <td>0</td>\n",
              "      <td>1</td>\n",
              "      <td>0</td>\n",
              "      <td>...</td>\n",
              "      <td>0</td>\n",
              "      <td>1</td>\n",
              "      <td>2</td>\n",
              "      <td>0</td>\n",
              "      <td>0</td>\n",
              "      <td>2</td>\n",
              "      <td>0</td>\n",
              "      <td>2</td>\n",
              "      <td>4</td>\n",
              "      <td>0</td>\n",
              "    </tr>\n",
              "  </tbody>\n",
              "</table>\n",
              "<p>8709 rows × 28 columns</p>\n",
              "</div>\n",
              "      <button class=\"colab-df-convert\" onclick=\"convertToInteractive('df-f9319372-c93f-4655-941d-132464248480')\"\n",
              "              title=\"Convert this dataframe to an interactive table.\"\n",
              "              style=\"display:none;\">\n",
              "        \n",
              "  <svg xmlns=\"http://www.w3.org/2000/svg\" height=\"24px\"viewBox=\"0 0 24 24\"\n",
              "       width=\"24px\">\n",
              "    <path d=\"M0 0h24v24H0V0z\" fill=\"none\"/>\n",
              "    <path d=\"M18.56 5.44l.94 2.06.94-2.06 2.06-.94-2.06-.94-.94-2.06-.94 2.06-2.06.94zm-11 1L8.5 8.5l.94-2.06 2.06-.94-2.06-.94L8.5 2.5l-.94 2.06-2.06.94zm10 10l.94 2.06.94-2.06 2.06-.94-2.06-.94-.94-2.06-.94 2.06-2.06.94z\"/><path d=\"M17.41 7.96l-1.37-1.37c-.4-.4-.92-.59-1.43-.59-.52 0-1.04.2-1.43.59L10.3 9.45l-7.72 7.72c-.78.78-.78 2.05 0 2.83L4 21.41c.39.39.9.59 1.41.59.51 0 1.02-.2 1.41-.59l7.78-7.78 2.81-2.81c.8-.78.8-2.07 0-2.86zM5.41 20L4 18.59l7.72-7.72 1.47 1.35L5.41 20z\"/>\n",
              "  </svg>\n",
              "      </button>\n",
              "      \n",
              "  <style>\n",
              "    .colab-df-container {\n",
              "      display:flex;\n",
              "      flex-wrap:wrap;\n",
              "      gap: 12px;\n",
              "    }\n",
              "\n",
              "    .colab-df-convert {\n",
              "      background-color: #E8F0FE;\n",
              "      border: none;\n",
              "      border-radius: 50%;\n",
              "      cursor: pointer;\n",
              "      display: none;\n",
              "      fill: #1967D2;\n",
              "      height: 32px;\n",
              "      padding: 0 0 0 0;\n",
              "      width: 32px;\n",
              "    }\n",
              "\n",
              "    .colab-df-convert:hover {\n",
              "      background-color: #E2EBFA;\n",
              "      box-shadow: 0px 1px 2px rgba(60, 64, 67, 0.3), 0px 1px 3px 1px rgba(60, 64, 67, 0.15);\n",
              "      fill: #174EA6;\n",
              "    }\n",
              "\n",
              "    [theme=dark] .colab-df-convert {\n",
              "      background-color: #3B4455;\n",
              "      fill: #D2E3FC;\n",
              "    }\n",
              "\n",
              "    [theme=dark] .colab-df-convert:hover {\n",
              "      background-color: #434B5C;\n",
              "      box-shadow: 0px 1px 3px 1px rgba(0, 0, 0, 0.15);\n",
              "      filter: drop-shadow(0px 1px 2px rgba(0, 0, 0, 0.3));\n",
              "      fill: #FFFFFF;\n",
              "    }\n",
              "  </style>\n",
              "\n",
              "      <script>\n",
              "        const buttonEl =\n",
              "          document.querySelector('#df-f9319372-c93f-4655-941d-132464248480 button.colab-df-convert');\n",
              "        buttonEl.style.display =\n",
              "          google.colab.kernel.accessAllowed ? 'block' : 'none';\n",
              "\n",
              "        async function convertToInteractive(key) {\n",
              "          const element = document.querySelector('#df-f9319372-c93f-4655-941d-132464248480');\n",
              "          const dataTable =\n",
              "            await google.colab.kernel.invokeFunction('convertToInteractive',\n",
              "                                                     [key], {});\n",
              "          if (!dataTable) return;\n",
              "\n",
              "          const docLinkHtml = 'Like what you see? Visit the ' +\n",
              "            '<a target=\"_blank\" href=https://colab.research.google.com/notebooks/data_table.ipynb>data table notebook</a>'\n",
              "            + ' to learn more about interactive tables.';\n",
              "          element.innerHTML = '';\n",
              "          dataTable['output_type'] = 'display_data';\n",
              "          await google.colab.output.renderOutput(dataTable, element);\n",
              "          const docLink = document.createElement('div');\n",
              "          docLink.innerHTML = docLinkHtml;\n",
              "          element.appendChild(docLink);\n",
              "        }\n",
              "      </script>\n",
              "    </div>\n",
              "  </div>\n",
              "  "
            ]
          },
          "metadata": {},
          "execution_count": 4
        }
      ],
      "source": [
        "w1"
      ]
    },
    {
      "cell_type": "code",
      "execution_count": null,
      "id": "5a260571",
      "metadata": {
        "id": "5a260571"
      },
      "outputs": [],
      "source": [
        "w1.drop('Unnamed: 0', axis=1, inplace=True)\n",
        "w12.drop('Unnamed: 0', axis=1, inplace=True)\n",
        "w123.drop('Unnamed: 0', axis=1, inplace=True)\n",
        "w1234.drop('Unnamed: 0', axis=1, inplace=True)"
      ]
    },
    {
      "cell_type": "code",
      "execution_count": null,
      "id": "b287feca",
      "metadata": {
        "id": "b287feca"
      },
      "outputs": [],
      "source": [
        "w1_test = pd.read_csv(\"/content/drive/MyDrive/Mitacs project/dataset/Datafull/features_week1_test.csv\")\n",
        "w12_test = pd.read_csv(\"/content/drive/MyDrive/Mitacs project/dataset/Datafull/features_week12_test.csv\")\n",
        "w123_test = pd.read_csv(\"/content/drive/MyDrive/Mitacs project/dataset/Datafull/features_week123_test.csv\")\n",
        "w1234_test = pd.read_csv(\"/content/drive/MyDrive/Mitacs project/dataset/Datafull/features_week1234_test.csv\")"
      ]
    },
    {
      "cell_type": "code",
      "execution_count": null,
      "id": "bfa554a0",
      "metadata": {
        "colab": {
          "base_uri": "https://localhost:8080/",
          "height": 505
        },
        "id": "bfa554a0",
        "outputId": "3c616876-625e-44bf-aec2-0e2c910b0029"
      },
      "outputs": [
        {
          "output_type": "execute_result",
          "data": {
            "text/plain": [
              "      Unnamed: 0  enrollment_id                          username  \\\n",
              "0              0             34  OeLBIzS0gNQ56euxy5b66gAZMzQCGE7n   \n",
              "1              1             66  cGrHiRjztN9fSltHujpfWaaWfYWiidiG   \n",
              "2              2             89  Po17baTutQqG3KBkMaahpxQ7IpjhFfZa   \n",
              "3              3            145  TZOWoG0yzTTzAfx5K054mpl5rZTlZIcZ   \n",
              "4              4            163  jJZ8z8M2beLy33Z7JJbNFq1bQd8o43FV   \n",
              "...          ...            ...                               ...   \n",
              "5774        5774         199048  seGsWY5pHJdYc0dygxkfgWkiK3wzJxVH   \n",
              "5775        5775         199063  ODCx2UO2z0ldelF48alKkiQzrvYMM8sJ   \n",
              "5776        5776         199068  TTLR6K3ZlbSrGOfX2kjd2U4ChldGiopU   \n",
              "5777        5777         199070  mne1Bu1F2f0U7iravmS4eQYQtLTkVvPe   \n",
              "5778        5778         199075  zmFq2MrnMqSFLtSy4w1SV24s7OiYosym   \n",
              "\n",
              "                             course_id  no_of_objects1  bno_access1  \\\n",
              "0     7GRhBDsirIGkRZBtSMEzNTyDr2JQm4xx              10           12   \n",
              "1     7GRhBDsirIGkRZBtSMEzNTyDr2JQm4xx              32          125   \n",
              "2     7GRhBDsirIGkRZBtSMEzNTyDr2JQm4xx              16           35   \n",
              "3     7GRhBDsirIGkRZBtSMEzNTyDr2JQm4xx              31           69   \n",
              "4     7GRhBDsirIGkRZBtSMEzNTyDr2JQm4xx               4            2   \n",
              "...                                ...             ...          ...   \n",
              "5774  A3fsA9Zfv1X2fVEQhTw51lKENdNrEqT3               5            3   \n",
              "5775  G8EPVSXsOYB5YQWZGiz1aVq5Pgr2GrQu               9            6   \n",
              "5776  RXDvfPUBYFlVdlueBFbLW0mhhAyGEqpt               5            3   \n",
              "5777  A3fsA9Zfv1X2fVEQhTw51lKENdNrEqT3               9            4   \n",
              "5778  A3fsA9Zfv1X2fVEQhTw51lKENdNrEqT3               4            2   \n",
              "\n",
              "      bno_pageclose1  bno_problem1  bno_video1  bno_discussion1  ...  \\\n",
              "0                  5             4           3                0  ...   \n",
              "1                 30            62          11               68  ...   \n",
              "2                  2            17          13                0  ...   \n",
              "3                 23            56          10               25  ...   \n",
              "4                  0             0           0                0  ...   \n",
              "...              ...           ...         ...              ...  ...   \n",
              "5774               1             0           1                0  ...   \n",
              "5775               3             2           1                0  ...   \n",
              "5776               1             0           0                0  ...   \n",
              "5777               3             0           3                0  ...   \n",
              "5778               1             0           1                0  ...   \n",
              "\n",
              "      browser_problem1  browser_video1  server_access1  server_discussion1  \\\n",
              "0                    3               3              11                   0   \n",
              "1                   46              11              67                  68   \n",
              "2                   14              13              15                   0   \n",
              "3                   52              10              47                  25   \n",
              "4                    0               0               2                   0   \n",
              "...                ...             ...             ...                 ...   \n",
              "5774                 0               1               2                   0   \n",
              "5775                 2               1               3                   0   \n",
              "5776                 0               0               3                   0   \n",
              "5777                 0               3               4                   0   \n",
              "5778                 0               1               2                   0   \n",
              "\n",
              "      server_problem1  server_navigate1  server_wiki1  bno_browser1  \\\n",
              "0                   1                 7             1            12   \n",
              "1                  16                17             0           145   \n",
              "2                   3                 5             0            49   \n",
              "3                   4                 5             2           107   \n",
              "4                   0                 2             0             0   \n",
              "...               ...               ...           ...           ...   \n",
              "5774                0                 2             0             3   \n",
              "5775                0                 9             0             9   \n",
              "5776                0                 3             0             1   \n",
              "5777                0                 3             0             6   \n",
              "5778                0                 1             0             2   \n",
              "\n",
              "      bno_server1  label  \n",
              "0              20      0  \n",
              "1             168      0  \n",
              "2              23      1  \n",
              "3              83      1  \n",
              "4               4      1  \n",
              "...           ...    ...  \n",
              "5774            4      1  \n",
              "5775           12      1  \n",
              "5776            6      1  \n",
              "5777            7      1  \n",
              "5778            3      1  \n",
              "\n",
              "[5779 rows x 28 columns]"
            ],
            "text/html": [
              "\n",
              "  <div id=\"df-2ee957a1-3c6f-4f9e-88fe-6f6c8315ae10\">\n",
              "    <div class=\"colab-df-container\">\n",
              "      <div>\n",
              "<style scoped>\n",
              "    .dataframe tbody tr th:only-of-type {\n",
              "        vertical-align: middle;\n",
              "    }\n",
              "\n",
              "    .dataframe tbody tr th {\n",
              "        vertical-align: top;\n",
              "    }\n",
              "\n",
              "    .dataframe thead th {\n",
              "        text-align: right;\n",
              "    }\n",
              "</style>\n",
              "<table border=\"1\" class=\"dataframe\">\n",
              "  <thead>\n",
              "    <tr style=\"text-align: right;\">\n",
              "      <th></th>\n",
              "      <th>Unnamed: 0</th>\n",
              "      <th>enrollment_id</th>\n",
              "      <th>username</th>\n",
              "      <th>course_id</th>\n",
              "      <th>no_of_objects1</th>\n",
              "      <th>bno_access1</th>\n",
              "      <th>bno_pageclose1</th>\n",
              "      <th>bno_problem1</th>\n",
              "      <th>bno_video1</th>\n",
              "      <th>bno_discussion1</th>\n",
              "      <th>...</th>\n",
              "      <th>browser_problem1</th>\n",
              "      <th>browser_video1</th>\n",
              "      <th>server_access1</th>\n",
              "      <th>server_discussion1</th>\n",
              "      <th>server_problem1</th>\n",
              "      <th>server_navigate1</th>\n",
              "      <th>server_wiki1</th>\n",
              "      <th>bno_browser1</th>\n",
              "      <th>bno_server1</th>\n",
              "      <th>label</th>\n",
              "    </tr>\n",
              "  </thead>\n",
              "  <tbody>\n",
              "    <tr>\n",
              "      <th>0</th>\n",
              "      <td>0</td>\n",
              "      <td>34</td>\n",
              "      <td>OeLBIzS0gNQ56euxy5b66gAZMzQCGE7n</td>\n",
              "      <td>7GRhBDsirIGkRZBtSMEzNTyDr2JQm4xx</td>\n",
              "      <td>10</td>\n",
              "      <td>12</td>\n",
              "      <td>5</td>\n",
              "      <td>4</td>\n",
              "      <td>3</td>\n",
              "      <td>0</td>\n",
              "      <td>...</td>\n",
              "      <td>3</td>\n",
              "      <td>3</td>\n",
              "      <td>11</td>\n",
              "      <td>0</td>\n",
              "      <td>1</td>\n",
              "      <td>7</td>\n",
              "      <td>1</td>\n",
              "      <td>12</td>\n",
              "      <td>20</td>\n",
              "      <td>0</td>\n",
              "    </tr>\n",
              "    <tr>\n",
              "      <th>1</th>\n",
              "      <td>1</td>\n",
              "      <td>66</td>\n",
              "      <td>cGrHiRjztN9fSltHujpfWaaWfYWiidiG</td>\n",
              "      <td>7GRhBDsirIGkRZBtSMEzNTyDr2JQm4xx</td>\n",
              "      <td>32</td>\n",
              "      <td>125</td>\n",
              "      <td>30</td>\n",
              "      <td>62</td>\n",
              "      <td>11</td>\n",
              "      <td>68</td>\n",
              "      <td>...</td>\n",
              "      <td>46</td>\n",
              "      <td>11</td>\n",
              "      <td>67</td>\n",
              "      <td>68</td>\n",
              "      <td>16</td>\n",
              "      <td>17</td>\n",
              "      <td>0</td>\n",
              "      <td>145</td>\n",
              "      <td>168</td>\n",
              "      <td>0</td>\n",
              "    </tr>\n",
              "    <tr>\n",
              "      <th>2</th>\n",
              "      <td>2</td>\n",
              "      <td>89</td>\n",
              "      <td>Po17baTutQqG3KBkMaahpxQ7IpjhFfZa</td>\n",
              "      <td>7GRhBDsirIGkRZBtSMEzNTyDr2JQm4xx</td>\n",
              "      <td>16</td>\n",
              "      <td>35</td>\n",
              "      <td>2</td>\n",
              "      <td>17</td>\n",
              "      <td>13</td>\n",
              "      <td>0</td>\n",
              "      <td>...</td>\n",
              "      <td>14</td>\n",
              "      <td>13</td>\n",
              "      <td>15</td>\n",
              "      <td>0</td>\n",
              "      <td>3</td>\n",
              "      <td>5</td>\n",
              "      <td>0</td>\n",
              "      <td>49</td>\n",
              "      <td>23</td>\n",
              "      <td>1</td>\n",
              "    </tr>\n",
              "    <tr>\n",
              "      <th>3</th>\n",
              "      <td>3</td>\n",
              "      <td>145</td>\n",
              "      <td>TZOWoG0yzTTzAfx5K054mpl5rZTlZIcZ</td>\n",
              "      <td>7GRhBDsirIGkRZBtSMEzNTyDr2JQm4xx</td>\n",
              "      <td>31</td>\n",
              "      <td>69</td>\n",
              "      <td>23</td>\n",
              "      <td>56</td>\n",
              "      <td>10</td>\n",
              "      <td>25</td>\n",
              "      <td>...</td>\n",
              "      <td>52</td>\n",
              "      <td>10</td>\n",
              "      <td>47</td>\n",
              "      <td>25</td>\n",
              "      <td>4</td>\n",
              "      <td>5</td>\n",
              "      <td>2</td>\n",
              "      <td>107</td>\n",
              "      <td>83</td>\n",
              "      <td>1</td>\n",
              "    </tr>\n",
              "    <tr>\n",
              "      <th>4</th>\n",
              "      <td>4</td>\n",
              "      <td>163</td>\n",
              "      <td>jJZ8z8M2beLy33Z7JJbNFq1bQd8o43FV</td>\n",
              "      <td>7GRhBDsirIGkRZBtSMEzNTyDr2JQm4xx</td>\n",
              "      <td>4</td>\n",
              "      <td>2</td>\n",
              "      <td>0</td>\n",
              "      <td>0</td>\n",
              "      <td>0</td>\n",
              "      <td>0</td>\n",
              "      <td>...</td>\n",
              "      <td>0</td>\n",
              "      <td>0</td>\n",
              "      <td>2</td>\n",
              "      <td>0</td>\n",
              "      <td>0</td>\n",
              "      <td>2</td>\n",
              "      <td>0</td>\n",
              "      <td>0</td>\n",
              "      <td>4</td>\n",
              "      <td>1</td>\n",
              "    </tr>\n",
              "    <tr>\n",
              "      <th>...</th>\n",
              "      <td>...</td>\n",
              "      <td>...</td>\n",
              "      <td>...</td>\n",
              "      <td>...</td>\n",
              "      <td>...</td>\n",
              "      <td>...</td>\n",
              "      <td>...</td>\n",
              "      <td>...</td>\n",
              "      <td>...</td>\n",
              "      <td>...</td>\n",
              "      <td>...</td>\n",
              "      <td>...</td>\n",
              "      <td>...</td>\n",
              "      <td>...</td>\n",
              "      <td>...</td>\n",
              "      <td>...</td>\n",
              "      <td>...</td>\n",
              "      <td>...</td>\n",
              "      <td>...</td>\n",
              "      <td>...</td>\n",
              "      <td>...</td>\n",
              "    </tr>\n",
              "    <tr>\n",
              "      <th>5774</th>\n",
              "      <td>5774</td>\n",
              "      <td>199048</td>\n",
              "      <td>seGsWY5pHJdYc0dygxkfgWkiK3wzJxVH</td>\n",
              "      <td>A3fsA9Zfv1X2fVEQhTw51lKENdNrEqT3</td>\n",
              "      <td>5</td>\n",
              "      <td>3</td>\n",
              "      <td>1</td>\n",
              "      <td>0</td>\n",
              "      <td>1</td>\n",
              "      <td>0</td>\n",
              "      <td>...</td>\n",
              "      <td>0</td>\n",
              "      <td>1</td>\n",
              "      <td>2</td>\n",
              "      <td>0</td>\n",
              "      <td>0</td>\n",
              "      <td>2</td>\n",
              "      <td>0</td>\n",
              "      <td>3</td>\n",
              "      <td>4</td>\n",
              "      <td>1</td>\n",
              "    </tr>\n",
              "    <tr>\n",
              "      <th>5775</th>\n",
              "      <td>5775</td>\n",
              "      <td>199063</td>\n",
              "      <td>ODCx2UO2z0ldelF48alKkiQzrvYMM8sJ</td>\n",
              "      <td>G8EPVSXsOYB5YQWZGiz1aVq5Pgr2GrQu</td>\n",
              "      <td>9</td>\n",
              "      <td>6</td>\n",
              "      <td>3</td>\n",
              "      <td>2</td>\n",
              "      <td>1</td>\n",
              "      <td>0</td>\n",
              "      <td>...</td>\n",
              "      <td>2</td>\n",
              "      <td>1</td>\n",
              "      <td>3</td>\n",
              "      <td>0</td>\n",
              "      <td>0</td>\n",
              "      <td>9</td>\n",
              "      <td>0</td>\n",
              "      <td>9</td>\n",
              "      <td>12</td>\n",
              "      <td>1</td>\n",
              "    </tr>\n",
              "    <tr>\n",
              "      <th>5776</th>\n",
              "      <td>5776</td>\n",
              "      <td>199068</td>\n",
              "      <td>TTLR6K3ZlbSrGOfX2kjd2U4ChldGiopU</td>\n",
              "      <td>RXDvfPUBYFlVdlueBFbLW0mhhAyGEqpt</td>\n",
              "      <td>5</td>\n",
              "      <td>3</td>\n",
              "      <td>1</td>\n",
              "      <td>0</td>\n",
              "      <td>0</td>\n",
              "      <td>0</td>\n",
              "      <td>...</td>\n",
              "      <td>0</td>\n",
              "      <td>0</td>\n",
              "      <td>3</td>\n",
              "      <td>0</td>\n",
              "      <td>0</td>\n",
              "      <td>3</td>\n",
              "      <td>0</td>\n",
              "      <td>1</td>\n",
              "      <td>6</td>\n",
              "      <td>1</td>\n",
              "    </tr>\n",
              "    <tr>\n",
              "      <th>5777</th>\n",
              "      <td>5777</td>\n",
              "      <td>199070</td>\n",
              "      <td>mne1Bu1F2f0U7iravmS4eQYQtLTkVvPe</td>\n",
              "      <td>A3fsA9Zfv1X2fVEQhTw51lKENdNrEqT3</td>\n",
              "      <td>9</td>\n",
              "      <td>4</td>\n",
              "      <td>3</td>\n",
              "      <td>0</td>\n",
              "      <td>3</td>\n",
              "      <td>0</td>\n",
              "      <td>...</td>\n",
              "      <td>0</td>\n",
              "      <td>3</td>\n",
              "      <td>4</td>\n",
              "      <td>0</td>\n",
              "      <td>0</td>\n",
              "      <td>3</td>\n",
              "      <td>0</td>\n",
              "      <td>6</td>\n",
              "      <td>7</td>\n",
              "      <td>1</td>\n",
              "    </tr>\n",
              "    <tr>\n",
              "      <th>5778</th>\n",
              "      <td>5778</td>\n",
              "      <td>199075</td>\n",
              "      <td>zmFq2MrnMqSFLtSy4w1SV24s7OiYosym</td>\n",
              "      <td>A3fsA9Zfv1X2fVEQhTw51lKENdNrEqT3</td>\n",
              "      <td>4</td>\n",
              "      <td>2</td>\n",
              "      <td>1</td>\n",
              "      <td>0</td>\n",
              "      <td>1</td>\n",
              "      <td>0</td>\n",
              "      <td>...</td>\n",
              "      <td>0</td>\n",
              "      <td>1</td>\n",
              "      <td>2</td>\n",
              "      <td>0</td>\n",
              "      <td>0</td>\n",
              "      <td>1</td>\n",
              "      <td>0</td>\n",
              "      <td>2</td>\n",
              "      <td>3</td>\n",
              "      <td>1</td>\n",
              "    </tr>\n",
              "  </tbody>\n",
              "</table>\n",
              "<p>5779 rows × 28 columns</p>\n",
              "</div>\n",
              "      <button class=\"colab-df-convert\" onclick=\"convertToInteractive('df-2ee957a1-3c6f-4f9e-88fe-6f6c8315ae10')\"\n",
              "              title=\"Convert this dataframe to an interactive table.\"\n",
              "              style=\"display:none;\">\n",
              "        \n",
              "  <svg xmlns=\"http://www.w3.org/2000/svg\" height=\"24px\"viewBox=\"0 0 24 24\"\n",
              "       width=\"24px\">\n",
              "    <path d=\"M0 0h24v24H0V0z\" fill=\"none\"/>\n",
              "    <path d=\"M18.56 5.44l.94 2.06.94-2.06 2.06-.94-2.06-.94-.94-2.06-.94 2.06-2.06.94zm-11 1L8.5 8.5l.94-2.06 2.06-.94-2.06-.94L8.5 2.5l-.94 2.06-2.06.94zm10 10l.94 2.06.94-2.06 2.06-.94-2.06-.94-.94-2.06-.94 2.06-2.06.94z\"/><path d=\"M17.41 7.96l-1.37-1.37c-.4-.4-.92-.59-1.43-.59-.52 0-1.04.2-1.43.59L10.3 9.45l-7.72 7.72c-.78.78-.78 2.05 0 2.83L4 21.41c.39.39.9.59 1.41.59.51 0 1.02-.2 1.41-.59l7.78-7.78 2.81-2.81c.8-.78.8-2.07 0-2.86zM5.41 20L4 18.59l7.72-7.72 1.47 1.35L5.41 20z\"/>\n",
              "  </svg>\n",
              "      </button>\n",
              "      \n",
              "  <style>\n",
              "    .colab-df-container {\n",
              "      display:flex;\n",
              "      flex-wrap:wrap;\n",
              "      gap: 12px;\n",
              "    }\n",
              "\n",
              "    .colab-df-convert {\n",
              "      background-color: #E8F0FE;\n",
              "      border: none;\n",
              "      border-radius: 50%;\n",
              "      cursor: pointer;\n",
              "      display: none;\n",
              "      fill: #1967D2;\n",
              "      height: 32px;\n",
              "      padding: 0 0 0 0;\n",
              "      width: 32px;\n",
              "    }\n",
              "\n",
              "    .colab-df-convert:hover {\n",
              "      background-color: #E2EBFA;\n",
              "      box-shadow: 0px 1px 2px rgba(60, 64, 67, 0.3), 0px 1px 3px 1px rgba(60, 64, 67, 0.15);\n",
              "      fill: #174EA6;\n",
              "    }\n",
              "\n",
              "    [theme=dark] .colab-df-convert {\n",
              "      background-color: #3B4455;\n",
              "      fill: #D2E3FC;\n",
              "    }\n",
              "\n",
              "    [theme=dark] .colab-df-convert:hover {\n",
              "      background-color: #434B5C;\n",
              "      box-shadow: 0px 1px 3px 1px rgba(0, 0, 0, 0.15);\n",
              "      filter: drop-shadow(0px 1px 2px rgba(0, 0, 0, 0.3));\n",
              "      fill: #FFFFFF;\n",
              "    }\n",
              "  </style>\n",
              "\n",
              "      <script>\n",
              "        const buttonEl =\n",
              "          document.querySelector('#df-2ee957a1-3c6f-4f9e-88fe-6f6c8315ae10 button.colab-df-convert');\n",
              "        buttonEl.style.display =\n",
              "          google.colab.kernel.accessAllowed ? 'block' : 'none';\n",
              "\n",
              "        async function convertToInteractive(key) {\n",
              "          const element = document.querySelector('#df-2ee957a1-3c6f-4f9e-88fe-6f6c8315ae10');\n",
              "          const dataTable =\n",
              "            await google.colab.kernel.invokeFunction('convertToInteractive',\n",
              "                                                     [key], {});\n",
              "          if (!dataTable) return;\n",
              "\n",
              "          const docLinkHtml = 'Like what you see? Visit the ' +\n",
              "            '<a target=\"_blank\" href=https://colab.research.google.com/notebooks/data_table.ipynb>data table notebook</a>'\n",
              "            + ' to learn more about interactive tables.';\n",
              "          element.innerHTML = '';\n",
              "          dataTable['output_type'] = 'display_data';\n",
              "          await google.colab.output.renderOutput(dataTable, element);\n",
              "          const docLink = document.createElement('div');\n",
              "          docLink.innerHTML = docLinkHtml;\n",
              "          element.appendChild(docLink);\n",
              "        }\n",
              "      </script>\n",
              "    </div>\n",
              "  </div>\n",
              "  "
            ]
          },
          "metadata": {},
          "execution_count": 7
        }
      ],
      "source": [
        "w1_test"
      ]
    },
    {
      "cell_type": "code",
      "execution_count": null,
      "id": "45612fff",
      "metadata": {
        "id": "45612fff"
      },
      "outputs": [],
      "source": [
        "w1_test.drop('Unnamed: 0', axis=1, inplace=True)\n",
        "w12_test.drop('Unnamed: 0', axis=1, inplace=True)\n",
        "w123_test.drop('Unnamed: 0', axis=1, inplace=True)\n",
        "w1234_test.drop('Unnamed: 0', axis=1, inplace=True)"
      ]
    },
    {
      "cell_type": "code",
      "execution_count": null,
      "id": "757ae36d",
      "metadata": {
        "id": "757ae36d"
      },
      "outputs": [],
      "source": [
        "w1 = pd.concat([w1, w1_test], axis=0)\n",
        "w12 = pd.concat([w12, w12_test], axis=0)\n",
        "w123 = pd.concat([w123, w123_test], axis=0)\n",
        "w1234 = pd.concat([w1234, w1234_test], axis=0)"
      ]
    },
    {
      "cell_type": "code",
      "execution_count": null,
      "id": "8f2b2c40",
      "metadata": {
        "colab": {
          "base_uri": "https://localhost:8080/",
          "height": 488
        },
        "id": "8f2b2c40",
        "outputId": "6fe07b15-330a-416a-9a05-5e3e0f2e7c8d"
      },
      "outputs": [
        {
          "output_type": "execute_result",
          "data": {
            "text/plain": [
              "      enrollment_id                          username  \\\n",
              "0                 3  1qXC7Fjbwp66GPQc6pHLfEuO8WKozxG4   \n",
              "1                 5  p1Mp7WkVfzUijX0peVQKSHbgd5pXyl4c   \n",
              "2                 7  I1KwJ6EdCZnEPLfC8Q7yWpIkLOHn7h02   \n",
              "3                45  5Tz6BGN7p1lkmdoopAY1Z5ufYTrUsi9E   \n",
              "4                49  2oTvbzieHn2y5oozeOgSnruqE6N0BtR5   \n",
              "...             ...                               ...   \n",
              "5774         199048  seGsWY5pHJdYc0dygxkfgWkiK3wzJxVH   \n",
              "5775         199063  ODCx2UO2z0ldelF48alKkiQzrvYMM8sJ   \n",
              "5776         199068  TTLR6K3ZlbSrGOfX2kjd2U4ChldGiopU   \n",
              "5777         199070  mne1Bu1F2f0U7iravmS4eQYQtLTkVvPe   \n",
              "5778         199075  zmFq2MrnMqSFLtSy4w1SV24s7OiYosym   \n",
              "\n",
              "                             course_id  no_of_objects1  bno_access1  \\\n",
              "0     7GRhBDsirIGkRZBtSMEzNTyDr2JQm4xx              13            9   \n",
              "1     7GRhBDsirIGkRZBtSMEzNTyDr2JQm4xx              34           53   \n",
              "2     7GRhBDsirIGkRZBtSMEzNTyDr2JQm4xx              30           59   \n",
              "3     7GRhBDsirIGkRZBtSMEzNTyDr2JQm4xx               3            2   \n",
              "4     7GRhBDsirIGkRZBtSMEzNTyDr2JQm4xx              28          102   \n",
              "...                                ...             ...          ...   \n",
              "5774  A3fsA9Zfv1X2fVEQhTw51lKENdNrEqT3               5            3   \n",
              "5775  G8EPVSXsOYB5YQWZGiz1aVq5Pgr2GrQu               9            6   \n",
              "5776  RXDvfPUBYFlVdlueBFbLW0mhhAyGEqpt               5            3   \n",
              "5777  A3fsA9Zfv1X2fVEQhTw51lKENdNrEqT3               9            4   \n",
              "5778  A3fsA9Zfv1X2fVEQhTw51lKENdNrEqT3               4            2   \n",
              "\n",
              "      bno_pageclose1  bno_problem1  bno_video1  bno_discussion1  \\\n",
              "0                  2            14           1                0   \n",
              "1                 20            45          13                5   \n",
              "2                 20            34          22                0   \n",
              "3                  1             0           0                0   \n",
              "4                 52            16          15              504   \n",
              "...              ...           ...         ...              ...   \n",
              "5774               1             0           1                0   \n",
              "5775               3             2           1                0   \n",
              "5776               1             0           0                0   \n",
              "5777               3             0           3                0   \n",
              "5778               1             0           1                0   \n",
              "\n",
              "      bno_navigate1  ...  browser_problem1  browser_video1  server_access1  \\\n",
              "0                 5  ...                14               1               5   \n",
              "1                11  ...                37              13              25   \n",
              "2                10  ...                31              22              26   \n",
              "3                 1  ...                 0               0               2   \n",
              "4                62  ...                 8              15              85   \n",
              "...             ...  ...               ...             ...             ...   \n",
              "5774              2  ...                 0               1               2   \n",
              "5775              9  ...                 2               1               3   \n",
              "5776              3  ...                 0               0               3   \n",
              "5777              3  ...                 0               3               4   \n",
              "5778              1  ...                 0               1               2   \n",
              "\n",
              "      server_discussion1  server_problem1  server_navigate1  server_wiki1  \\\n",
              "0                      0                0                 5             0   \n",
              "1                      5                8                11             0   \n",
              "2                      0                3                10             0   \n",
              "3                      0                0                 1             0   \n",
              "4                    504                8                62             0   \n",
              "...                  ...              ...               ...           ...   \n",
              "5774                   0                0                 2             0   \n",
              "5775                   0                0                 9             0   \n",
              "5776                   0                0                 3             0   \n",
              "5777                   0                0                 3             0   \n",
              "5778                   0                0                 1             0   \n",
              "\n",
              "      bno_browser1  bno_server1  label  \n",
              "0               21           10      0  \n",
              "1               98           49      0  \n",
              "2              106           39      1  \n",
              "3                1            3      0  \n",
              "4               92          659      0  \n",
              "...            ...          ...    ...  \n",
              "5774             3            4      1  \n",
              "5775             9           12      1  \n",
              "5776             1            6      1  \n",
              "5777             6            7      1  \n",
              "5778             2            3      1  \n",
              "\n",
              "[14488 rows x 27 columns]"
            ],
            "text/html": [
              "\n",
              "  <div id=\"df-f768379c-a471-4ea3-97b1-9d071f747296\">\n",
              "    <div class=\"colab-df-container\">\n",
              "      <div>\n",
              "<style scoped>\n",
              "    .dataframe tbody tr th:only-of-type {\n",
              "        vertical-align: middle;\n",
              "    }\n",
              "\n",
              "    .dataframe tbody tr th {\n",
              "        vertical-align: top;\n",
              "    }\n",
              "\n",
              "    .dataframe thead th {\n",
              "        text-align: right;\n",
              "    }\n",
              "</style>\n",
              "<table border=\"1\" class=\"dataframe\">\n",
              "  <thead>\n",
              "    <tr style=\"text-align: right;\">\n",
              "      <th></th>\n",
              "      <th>enrollment_id</th>\n",
              "      <th>username</th>\n",
              "      <th>course_id</th>\n",
              "      <th>no_of_objects1</th>\n",
              "      <th>bno_access1</th>\n",
              "      <th>bno_pageclose1</th>\n",
              "      <th>bno_problem1</th>\n",
              "      <th>bno_video1</th>\n",
              "      <th>bno_discussion1</th>\n",
              "      <th>bno_navigate1</th>\n",
              "      <th>...</th>\n",
              "      <th>browser_problem1</th>\n",
              "      <th>browser_video1</th>\n",
              "      <th>server_access1</th>\n",
              "      <th>server_discussion1</th>\n",
              "      <th>server_problem1</th>\n",
              "      <th>server_navigate1</th>\n",
              "      <th>server_wiki1</th>\n",
              "      <th>bno_browser1</th>\n",
              "      <th>bno_server1</th>\n",
              "      <th>label</th>\n",
              "    </tr>\n",
              "  </thead>\n",
              "  <tbody>\n",
              "    <tr>\n",
              "      <th>0</th>\n",
              "      <td>3</td>\n",
              "      <td>1qXC7Fjbwp66GPQc6pHLfEuO8WKozxG4</td>\n",
              "      <td>7GRhBDsirIGkRZBtSMEzNTyDr2JQm4xx</td>\n",
              "      <td>13</td>\n",
              "      <td>9</td>\n",
              "      <td>2</td>\n",
              "      <td>14</td>\n",
              "      <td>1</td>\n",
              "      <td>0</td>\n",
              "      <td>5</td>\n",
              "      <td>...</td>\n",
              "      <td>14</td>\n",
              "      <td>1</td>\n",
              "      <td>5</td>\n",
              "      <td>0</td>\n",
              "      <td>0</td>\n",
              "      <td>5</td>\n",
              "      <td>0</td>\n",
              "      <td>21</td>\n",
              "      <td>10</td>\n",
              "      <td>0</td>\n",
              "    </tr>\n",
              "    <tr>\n",
              "      <th>1</th>\n",
              "      <td>5</td>\n",
              "      <td>p1Mp7WkVfzUijX0peVQKSHbgd5pXyl4c</td>\n",
              "      <td>7GRhBDsirIGkRZBtSMEzNTyDr2JQm4xx</td>\n",
              "      <td>34</td>\n",
              "      <td>53</td>\n",
              "      <td>20</td>\n",
              "      <td>45</td>\n",
              "      <td>13</td>\n",
              "      <td>5</td>\n",
              "      <td>11</td>\n",
              "      <td>...</td>\n",
              "      <td>37</td>\n",
              "      <td>13</td>\n",
              "      <td>25</td>\n",
              "      <td>5</td>\n",
              "      <td>8</td>\n",
              "      <td>11</td>\n",
              "      <td>0</td>\n",
              "      <td>98</td>\n",
              "      <td>49</td>\n",
              "      <td>0</td>\n",
              "    </tr>\n",
              "    <tr>\n",
              "      <th>2</th>\n",
              "      <td>7</td>\n",
              "      <td>I1KwJ6EdCZnEPLfC8Q7yWpIkLOHn7h02</td>\n",
              "      <td>7GRhBDsirIGkRZBtSMEzNTyDr2JQm4xx</td>\n",
              "      <td>30</td>\n",
              "      <td>59</td>\n",
              "      <td>20</td>\n",
              "      <td>34</td>\n",
              "      <td>22</td>\n",
              "      <td>0</td>\n",
              "      <td>10</td>\n",
              "      <td>...</td>\n",
              "      <td>31</td>\n",
              "      <td>22</td>\n",
              "      <td>26</td>\n",
              "      <td>0</td>\n",
              "      <td>3</td>\n",
              "      <td>10</td>\n",
              "      <td>0</td>\n",
              "      <td>106</td>\n",
              "      <td>39</td>\n",
              "      <td>1</td>\n",
              "    </tr>\n",
              "    <tr>\n",
              "      <th>3</th>\n",
              "      <td>45</td>\n",
              "      <td>5Tz6BGN7p1lkmdoopAY1Z5ufYTrUsi9E</td>\n",
              "      <td>7GRhBDsirIGkRZBtSMEzNTyDr2JQm4xx</td>\n",
              "      <td>3</td>\n",
              "      <td>2</td>\n",
              "      <td>1</td>\n",
              "      <td>0</td>\n",
              "      <td>0</td>\n",
              "      <td>0</td>\n",
              "      <td>1</td>\n",
              "      <td>...</td>\n",
              "      <td>0</td>\n",
              "      <td>0</td>\n",
              "      <td>2</td>\n",
              "      <td>0</td>\n",
              "      <td>0</td>\n",
              "      <td>1</td>\n",
              "      <td>0</td>\n",
              "      <td>1</td>\n",
              "      <td>3</td>\n",
              "      <td>0</td>\n",
              "    </tr>\n",
              "    <tr>\n",
              "      <th>4</th>\n",
              "      <td>49</td>\n",
              "      <td>2oTvbzieHn2y5oozeOgSnruqE6N0BtR5</td>\n",
              "      <td>7GRhBDsirIGkRZBtSMEzNTyDr2JQm4xx</td>\n",
              "      <td>28</td>\n",
              "      <td>102</td>\n",
              "      <td>52</td>\n",
              "      <td>16</td>\n",
              "      <td>15</td>\n",
              "      <td>504</td>\n",
              "      <td>62</td>\n",
              "      <td>...</td>\n",
              "      <td>8</td>\n",
              "      <td>15</td>\n",
              "      <td>85</td>\n",
              "      <td>504</td>\n",
              "      <td>8</td>\n",
              "      <td>62</td>\n",
              "      <td>0</td>\n",
              "      <td>92</td>\n",
              "      <td>659</td>\n",
              "      <td>0</td>\n",
              "    </tr>\n",
              "    <tr>\n",
              "      <th>...</th>\n",
              "      <td>...</td>\n",
              "      <td>...</td>\n",
              "      <td>...</td>\n",
              "      <td>...</td>\n",
              "      <td>...</td>\n",
              "      <td>...</td>\n",
              "      <td>...</td>\n",
              "      <td>...</td>\n",
              "      <td>...</td>\n",
              "      <td>...</td>\n",
              "      <td>...</td>\n",
              "      <td>...</td>\n",
              "      <td>...</td>\n",
              "      <td>...</td>\n",
              "      <td>...</td>\n",
              "      <td>...</td>\n",
              "      <td>...</td>\n",
              "      <td>...</td>\n",
              "      <td>...</td>\n",
              "      <td>...</td>\n",
              "      <td>...</td>\n",
              "    </tr>\n",
              "    <tr>\n",
              "      <th>5774</th>\n",
              "      <td>199048</td>\n",
              "      <td>seGsWY5pHJdYc0dygxkfgWkiK3wzJxVH</td>\n",
              "      <td>A3fsA9Zfv1X2fVEQhTw51lKENdNrEqT3</td>\n",
              "      <td>5</td>\n",
              "      <td>3</td>\n",
              "      <td>1</td>\n",
              "      <td>0</td>\n",
              "      <td>1</td>\n",
              "      <td>0</td>\n",
              "      <td>2</td>\n",
              "      <td>...</td>\n",
              "      <td>0</td>\n",
              "      <td>1</td>\n",
              "      <td>2</td>\n",
              "      <td>0</td>\n",
              "      <td>0</td>\n",
              "      <td>2</td>\n",
              "      <td>0</td>\n",
              "      <td>3</td>\n",
              "      <td>4</td>\n",
              "      <td>1</td>\n",
              "    </tr>\n",
              "    <tr>\n",
              "      <th>5775</th>\n",
              "      <td>199063</td>\n",
              "      <td>ODCx2UO2z0ldelF48alKkiQzrvYMM8sJ</td>\n",
              "      <td>G8EPVSXsOYB5YQWZGiz1aVq5Pgr2GrQu</td>\n",
              "      <td>9</td>\n",
              "      <td>6</td>\n",
              "      <td>3</td>\n",
              "      <td>2</td>\n",
              "      <td>1</td>\n",
              "      <td>0</td>\n",
              "      <td>9</td>\n",
              "      <td>...</td>\n",
              "      <td>2</td>\n",
              "      <td>1</td>\n",
              "      <td>3</td>\n",
              "      <td>0</td>\n",
              "      <td>0</td>\n",
              "      <td>9</td>\n",
              "      <td>0</td>\n",
              "      <td>9</td>\n",
              "      <td>12</td>\n",
              "      <td>1</td>\n",
              "    </tr>\n",
              "    <tr>\n",
              "      <th>5776</th>\n",
              "      <td>199068</td>\n",
              "      <td>TTLR6K3ZlbSrGOfX2kjd2U4ChldGiopU</td>\n",
              "      <td>RXDvfPUBYFlVdlueBFbLW0mhhAyGEqpt</td>\n",
              "      <td>5</td>\n",
              "      <td>3</td>\n",
              "      <td>1</td>\n",
              "      <td>0</td>\n",
              "      <td>0</td>\n",
              "      <td>0</td>\n",
              "      <td>3</td>\n",
              "      <td>...</td>\n",
              "      <td>0</td>\n",
              "      <td>0</td>\n",
              "      <td>3</td>\n",
              "      <td>0</td>\n",
              "      <td>0</td>\n",
              "      <td>3</td>\n",
              "      <td>0</td>\n",
              "      <td>1</td>\n",
              "      <td>6</td>\n",
              "      <td>1</td>\n",
              "    </tr>\n",
              "    <tr>\n",
              "      <th>5777</th>\n",
              "      <td>199070</td>\n",
              "      <td>mne1Bu1F2f0U7iravmS4eQYQtLTkVvPe</td>\n",
              "      <td>A3fsA9Zfv1X2fVEQhTw51lKENdNrEqT3</td>\n",
              "      <td>9</td>\n",
              "      <td>4</td>\n",
              "      <td>3</td>\n",
              "      <td>0</td>\n",
              "      <td>3</td>\n",
              "      <td>0</td>\n",
              "      <td>3</td>\n",
              "      <td>...</td>\n",
              "      <td>0</td>\n",
              "      <td>3</td>\n",
              "      <td>4</td>\n",
              "      <td>0</td>\n",
              "      <td>0</td>\n",
              "      <td>3</td>\n",
              "      <td>0</td>\n",
              "      <td>6</td>\n",
              "      <td>7</td>\n",
              "      <td>1</td>\n",
              "    </tr>\n",
              "    <tr>\n",
              "      <th>5778</th>\n",
              "      <td>199075</td>\n",
              "      <td>zmFq2MrnMqSFLtSy4w1SV24s7OiYosym</td>\n",
              "      <td>A3fsA9Zfv1X2fVEQhTw51lKENdNrEqT3</td>\n",
              "      <td>4</td>\n",
              "      <td>2</td>\n",
              "      <td>1</td>\n",
              "      <td>0</td>\n",
              "      <td>1</td>\n",
              "      <td>0</td>\n",
              "      <td>1</td>\n",
              "      <td>...</td>\n",
              "      <td>0</td>\n",
              "      <td>1</td>\n",
              "      <td>2</td>\n",
              "      <td>0</td>\n",
              "      <td>0</td>\n",
              "      <td>1</td>\n",
              "      <td>0</td>\n",
              "      <td>2</td>\n",
              "      <td>3</td>\n",
              "      <td>1</td>\n",
              "    </tr>\n",
              "  </tbody>\n",
              "</table>\n",
              "<p>14488 rows × 27 columns</p>\n",
              "</div>\n",
              "      <button class=\"colab-df-convert\" onclick=\"convertToInteractive('df-f768379c-a471-4ea3-97b1-9d071f747296')\"\n",
              "              title=\"Convert this dataframe to an interactive table.\"\n",
              "              style=\"display:none;\">\n",
              "        \n",
              "  <svg xmlns=\"http://www.w3.org/2000/svg\" height=\"24px\"viewBox=\"0 0 24 24\"\n",
              "       width=\"24px\">\n",
              "    <path d=\"M0 0h24v24H0V0z\" fill=\"none\"/>\n",
              "    <path d=\"M18.56 5.44l.94 2.06.94-2.06 2.06-.94-2.06-.94-.94-2.06-.94 2.06-2.06.94zm-11 1L8.5 8.5l.94-2.06 2.06-.94-2.06-.94L8.5 2.5l-.94 2.06-2.06.94zm10 10l.94 2.06.94-2.06 2.06-.94-2.06-.94-.94-2.06-.94 2.06-2.06.94z\"/><path d=\"M17.41 7.96l-1.37-1.37c-.4-.4-.92-.59-1.43-.59-.52 0-1.04.2-1.43.59L10.3 9.45l-7.72 7.72c-.78.78-.78 2.05 0 2.83L4 21.41c.39.39.9.59 1.41.59.51 0 1.02-.2 1.41-.59l7.78-7.78 2.81-2.81c.8-.78.8-2.07 0-2.86zM5.41 20L4 18.59l7.72-7.72 1.47 1.35L5.41 20z\"/>\n",
              "  </svg>\n",
              "      </button>\n",
              "      \n",
              "  <style>\n",
              "    .colab-df-container {\n",
              "      display:flex;\n",
              "      flex-wrap:wrap;\n",
              "      gap: 12px;\n",
              "    }\n",
              "\n",
              "    .colab-df-convert {\n",
              "      background-color: #E8F0FE;\n",
              "      border: none;\n",
              "      border-radius: 50%;\n",
              "      cursor: pointer;\n",
              "      display: none;\n",
              "      fill: #1967D2;\n",
              "      height: 32px;\n",
              "      padding: 0 0 0 0;\n",
              "      width: 32px;\n",
              "    }\n",
              "\n",
              "    .colab-df-convert:hover {\n",
              "      background-color: #E2EBFA;\n",
              "      box-shadow: 0px 1px 2px rgba(60, 64, 67, 0.3), 0px 1px 3px 1px rgba(60, 64, 67, 0.15);\n",
              "      fill: #174EA6;\n",
              "    }\n",
              "\n",
              "    [theme=dark] .colab-df-convert {\n",
              "      background-color: #3B4455;\n",
              "      fill: #D2E3FC;\n",
              "    }\n",
              "\n",
              "    [theme=dark] .colab-df-convert:hover {\n",
              "      background-color: #434B5C;\n",
              "      box-shadow: 0px 1px 3px 1px rgba(0, 0, 0, 0.15);\n",
              "      filter: drop-shadow(0px 1px 2px rgba(0, 0, 0, 0.3));\n",
              "      fill: #FFFFFF;\n",
              "    }\n",
              "  </style>\n",
              "\n",
              "      <script>\n",
              "        const buttonEl =\n",
              "          document.querySelector('#df-f768379c-a471-4ea3-97b1-9d071f747296 button.colab-df-convert');\n",
              "        buttonEl.style.display =\n",
              "          google.colab.kernel.accessAllowed ? 'block' : 'none';\n",
              "\n",
              "        async function convertToInteractive(key) {\n",
              "          const element = document.querySelector('#df-f768379c-a471-4ea3-97b1-9d071f747296');\n",
              "          const dataTable =\n",
              "            await google.colab.kernel.invokeFunction('convertToInteractive',\n",
              "                                                     [key], {});\n",
              "          if (!dataTable) return;\n",
              "\n",
              "          const docLinkHtml = 'Like what you see? Visit the ' +\n",
              "            '<a target=\"_blank\" href=https://colab.research.google.com/notebooks/data_table.ipynb>data table notebook</a>'\n",
              "            + ' to learn more about interactive tables.';\n",
              "          element.innerHTML = '';\n",
              "          dataTable['output_type'] = 'display_data';\n",
              "          await google.colab.output.renderOutput(dataTable, element);\n",
              "          const docLink = document.createElement('div');\n",
              "          docLink.innerHTML = docLinkHtml;\n",
              "          element.appendChild(docLink);\n",
              "        }\n",
              "      </script>\n",
              "    </div>\n",
              "  </div>\n",
              "  "
            ]
          },
          "metadata": {},
          "execution_count": 10
        }
      ],
      "source": [
        "w1"
      ]
    },
    {
      "cell_type": "markdown",
      "id": "85b14360",
      "metadata": {
        "id": "85b14360"
      },
      "source": [
        "### Week 1 - preprocessing"
      ]
    },
    {
      "cell_type": "code",
      "execution_count": null,
      "id": "54ee0230",
      "metadata": {
        "id": "54ee0230"
      },
      "outputs": [],
      "source": [
        "w1['username']=pd.factorize(w1['username'])[0]         #converting to numerical data\n",
        "w1['course_id']=pd.factorize(w1['course_id'])[0]"
      ]
    },
    {
      "cell_type": "code",
      "execution_count": null,
      "id": "a9646cb2",
      "metadata": {
        "id": "a9646cb2"
      },
      "outputs": [],
      "source": [
        "x1=w1.drop('label',axis=1)\n",
        "y1=w1['label']"
      ]
    },
    {
      "cell_type": "code",
      "execution_count": null,
      "id": "0c3ad93e",
      "metadata": {
        "id": "0c3ad93e"
      },
      "outputs": [],
      "source": [
        "scaler = MinMaxScaler()\n",
        "cols_to_norm = x1.iloc[:, 3:].columns\n",
        "x1[cols_to_norm] = scaler.fit_transform(x1[cols_to_norm])"
      ]
    },
    {
      "cell_type": "code",
      "execution_count": null,
      "id": "9ztohgcAGWyb",
      "metadata": {
        "colab": {
          "base_uri": "https://localhost:8080/"
        },
        "id": "9ztohgcAGWyb",
        "outputId": "4a4dfdf0-65a8-4578-a96c-9b8f135966ff"
      },
      "outputs": [
        {
          "output_type": "stream",
          "name": "stdout",
          "text": [
            "Original dataset shape Counter({1: 11345, 0: 3143})\n",
            "Resample dataset shape Counter({0: 11345, 1: 11345})\n"
          ]
        }
      ],
      "source": [
        "smote = SMOTE()\n",
        "# fit predictor and target variable\n",
        "x1_smote, y1_smote = smote.fit_resample(x1, y1)\n",
        "print('Original dataset shape', Counter(y1))\n",
        "print('Resample dataset shape', Counter(y1_smote))"
      ]
    },
    {
      "cell_type": "code",
      "execution_count": null,
      "id": "f5aa8e78",
      "metadata": {
        "colab": {
          "base_uri": "https://localhost:8080/"
        },
        "id": "f5aa8e78",
        "outputId": "ab0b5143-3257-4eaf-b02d-726961baab9b"
      },
      "outputs": [
        {
          "output_type": "execute_result",
          "data": {
            "text/plain": [
              "'scaler = MinMaxScaler()\\n#cols_to_norm = x1.iloc[:, 3:].columns\\nminmax_scaled = scaler.fit_transform(x1)\\nx1_scaled = pd.DataFrame(minmax_scaled, columns=x1.columns)'"
            ],
            "application/vnd.google.colaboratory.intrinsic+json": {
              "type": "string"
            }
          },
          "metadata": {},
          "execution_count": 15
        }
      ],
      "source": [
        "'''scaler = MinMaxScaler()\n",
        "#cols_to_norm = x1.iloc[:, 3:].columns\n",
        "minmax_scaled = scaler.fit_transform(x1)\n",
        "x1_scaled = pd.DataFrame(minmax_scaled, columns=x1.columns)'''"
      ]
    },
    {
      "cell_type": "code",
      "execution_count": null,
      "id": "23d08ec6",
      "metadata": {
        "id": "23d08ec6"
      },
      "outputs": [],
      "source": [
        "x_train1, x_test1, y_train1, y_test1 = train_test_split(x1_smote, y1_smote, test_size=0.3, random_state=7)   # Train test split"
      ]
    },
    {
      "cell_type": "code",
      "execution_count": null,
      "id": "dfe29eaf",
      "metadata": {
        "colab": {
          "base_uri": "https://localhost:8080/"
        },
        "id": "dfe29eaf",
        "outputId": "d4178023-a641-4530-d5e3-c20faa28c22e"
      },
      "outputs": [
        {
          "output_type": "execute_result",
          "data": {
            "text/plain": [
              "20715    0\n",
              "4254     1\n",
              "6403     1\n",
              "13518    1\n",
              "14378    1\n",
              "        ..\n",
              "919      0\n",
              "20691    0\n",
              "5699     1\n",
              "10742    1\n",
              "16921    0\n",
              "Name: label, Length: 15883, dtype: int64"
            ]
          },
          "metadata": {},
          "execution_count": 17
        }
      ],
      "source": [
        "y_train1"
      ]
    },
    {
      "cell_type": "markdown",
      "id": "463a3c36",
      "metadata": {
        "id": "463a3c36"
      },
      "source": [
        "### Week 1 + Week 2 - Preprocessing"
      ]
    },
    {
      "cell_type": "code",
      "execution_count": null,
      "id": "7aa7f3ab",
      "metadata": {
        "id": "7aa7f3ab"
      },
      "outputs": [],
      "source": [
        "w12['username']=pd.factorize(w12['username'])[0]         #converting to numerical data\n",
        "w12['course_id']=pd.factorize(w12['course_id'])[0]"
      ]
    },
    {
      "cell_type": "code",
      "execution_count": null,
      "id": "07e63fb9",
      "metadata": {
        "id": "07e63fb9"
      },
      "outputs": [],
      "source": [
        "x12=w12.drop('label',axis=1)\n",
        "y12=w12['label']"
      ]
    },
    {
      "cell_type": "code",
      "execution_count": null,
      "id": "fe507b21",
      "metadata": {
        "id": "fe507b21"
      },
      "outputs": [],
      "source": [
        "scaler = MinMaxScaler()\n",
        "cols_to_norm = x12.iloc[:, 3:].columns\n",
        "x12[cols_to_norm] = scaler.fit_transform(x12[cols_to_norm])"
      ]
    },
    {
      "cell_type": "code",
      "execution_count": null,
      "id": "0Vstm28JGsBh",
      "metadata": {
        "colab": {
          "base_uri": "https://localhost:8080/"
        },
        "id": "0Vstm28JGsBh",
        "outputId": "c10ec84d-69e8-4b36-ebe0-b49f193044d7"
      },
      "outputs": [
        {
          "output_type": "stream",
          "name": "stdout",
          "text": [
            "Original dataset shape Counter({1: 14829, 0: 3730})\n",
            "Resample dataset shape Counter({0: 14829, 1: 14829})\n"
          ]
        }
      ],
      "source": [
        "smote = SMOTE()\n",
        "# fit predictor and target variable\n",
        "x12_smote, y12_smote = smote.fit_resample(x12, y12)\n",
        "print('Original dataset shape', Counter(y12))\n",
        "print('Resample dataset shape', Counter(y12_smote))"
      ]
    },
    {
      "cell_type": "code",
      "execution_count": null,
      "id": "b84b8fe4",
      "metadata": {
        "id": "b84b8fe4"
      },
      "outputs": [],
      "source": [
        "x_train12, x_test12, y_train12, y_test12 = train_test_split(x12_smote, y12_smote, test_size=0.3, random_state=7)   # Train test split"
      ]
    },
    {
      "cell_type": "markdown",
      "id": "5f43b1e1",
      "metadata": {
        "id": "5f43b1e1"
      },
      "source": [
        "### Week 1 + Week 2 + Week 3 processing"
      ]
    },
    {
      "cell_type": "code",
      "execution_count": null,
      "id": "ceabcbd8",
      "metadata": {
        "id": "ceabcbd8"
      },
      "outputs": [],
      "source": [
        "w123['username']=pd.factorize(w123['username'])[0]         #converting to numerical data\n",
        "w123['course_id']=pd.factorize(w123['course_id'])[0]"
      ]
    },
    {
      "cell_type": "code",
      "execution_count": null,
      "id": "acaf7175",
      "metadata": {
        "id": "acaf7175"
      },
      "outputs": [],
      "source": [
        "x123=w123.drop('label',axis=1)\n",
        "y123=w123['label']"
      ]
    },
    {
      "cell_type": "code",
      "execution_count": null,
      "id": "00b38de8",
      "metadata": {
        "id": "00b38de8"
      },
      "outputs": [],
      "source": [
        "scaler = MinMaxScaler()\n",
        "cols_to_norm = x123.iloc[:, 3:].columns\n",
        "x123[cols_to_norm] = scaler.fit_transform(x123[cols_to_norm])"
      ]
    },
    {
      "cell_type": "code",
      "execution_count": null,
      "id": "g49wOh6rIC-B",
      "metadata": {
        "colab": {
          "base_uri": "https://localhost:8080/"
        },
        "id": "g49wOh6rIC-B",
        "outputId": "87bd59fc-daae-4246-e838-c9a3bd7fd0fe"
      },
      "outputs": [
        {
          "output_type": "stream",
          "name": "stdout",
          "text": [
            "Original dataset shape Counter({1: 5624, 0: 3071})\n",
            "Resample dataset shape Counter({0: 5624, 1: 5624})\n"
          ]
        }
      ],
      "source": [
        "smote = SMOTE()\n",
        "# fit predictor and target variable\n",
        "x123_smote, y123_smote = smote.fit_resample(x123, y123)\n",
        "print('Original dataset shape', Counter(y123))\n",
        "print('Resample dataset shape', Counter(y123_smote))"
      ]
    },
    {
      "cell_type": "code",
      "execution_count": null,
      "id": "370ce693",
      "metadata": {
        "id": "370ce693"
      },
      "outputs": [],
      "source": [
        "x_train123, x_test123, y_train123, y_test123 = train_test_split(x123_smote, y123_smote, test_size=0.3, random_state=7)   # Train test split"
      ]
    },
    {
      "cell_type": "markdown",
      "id": "c40f2aa0",
      "metadata": {
        "id": "c40f2aa0"
      },
      "source": [
        "### Week 1 + Week 2 + Week 3 + Week 4 preprocessing"
      ]
    },
    {
      "cell_type": "code",
      "execution_count": null,
      "id": "f440fbe3",
      "metadata": {
        "id": "f440fbe3"
      },
      "outputs": [],
      "source": [
        "w1234['username']=pd.factorize(w1234['username'])[0]         #converting to numerical data\n",
        "w1234['course_id']=pd.factorize(w1234['course_id'])[0]"
      ]
    },
    {
      "cell_type": "code",
      "execution_count": null,
      "id": "aa2b231f",
      "metadata": {
        "id": "aa2b231f"
      },
      "outputs": [],
      "source": [
        "x1234=w1234.drop('label',axis=1)\n",
        "y1234=w1234['label']"
      ]
    },
    {
      "cell_type": "code",
      "execution_count": null,
      "id": "69aa16b7",
      "metadata": {
        "id": "69aa16b7"
      },
      "outputs": [],
      "source": [
        "scaler = MinMaxScaler()\n",
        "cols_to_norm = x1234.iloc[:, 3:].columns\n",
        "x1234[cols_to_norm] = scaler.fit_transform(x1234[cols_to_norm])"
      ]
    },
    {
      "cell_type": "code",
      "execution_count": null,
      "id": "vfM9KWuUIPk2",
      "metadata": {
        "colab": {
          "base_uri": "https://localhost:8080/"
        },
        "id": "vfM9KWuUIPk2",
        "outputId": "9eb7b029-3358-471d-db8b-ff4773e0270f"
      },
      "outputs": [
        {
          "output_type": "stream",
          "name": "stdout",
          "text": [
            "Original dataset shape Counter({1: 29603, 0: 6541})\n",
            "Resample dataset shape Counter({0: 29603, 1: 29603})\n"
          ]
        }
      ],
      "source": [
        "smote = SMOTE()\n",
        "# fit predictor and target variable\n",
        "x1234_smote, y1234_smote = smote.fit_resample(x1234, y1234)\n",
        "print('Original dataset shape', Counter(y1234))\n",
        "print('Resample dataset shape', Counter(y1234_smote))"
      ]
    },
    {
      "cell_type": "code",
      "execution_count": null,
      "id": "db53238e",
      "metadata": {
        "id": "db53238e"
      },
      "outputs": [],
      "source": [
        "x_train1234, x_test1234, y_train1234, y_test1234 = train_test_split(x1234_smote, y1234_smote, test_size=0.3, random_state=7)   # Train test split"
      ]
    },
    {
      "cell_type": "markdown",
      "id": "fca544f7",
      "metadata": {
        "id": "fca544f7"
      },
      "source": [
        "### Week 1 - training"
      ]
    },
    {
      "cell_type": "markdown",
      "id": "HUWQc46GVctZ",
      "metadata": {
        "id": "HUWQc46GVctZ"
      },
      "source": [
        "#### KNN"
      ]
    },
    {
      "cell_type": "code",
      "execution_count": null,
      "id": "tlJnctGqVecy",
      "metadata": {
        "colab": {
          "base_uri": "https://localhost:8080/"
        },
        "id": "tlJnctGqVecy",
        "outputId": "f5dfcc21-77ff-42ac-f405-5dd8f9498f0f"
      },
      "outputs": [
        {
          "output_type": "execute_result",
          "data": {
            "text/plain": [
              "KNeighborsClassifier(n_neighbors=4)"
            ]
          },
          "metadata": {},
          "execution_count": 33
        }
      ],
      "source": [
        "knn=KNeighborsClassifier(n_neighbors=4, metric='minkowski', p=2 )  \n",
        "knn.fit(x_train1, y_train1)"
      ]
    },
    {
      "cell_type": "code",
      "execution_count": null,
      "id": "E2eot_0AVuyk",
      "metadata": {
        "colab": {
          "base_uri": "https://localhost:8080/"
        },
        "id": "E2eot_0AVuyk",
        "outputId": "39802393-22bd-4366-8e56-5d8a60200acd"
      },
      "outputs": [
        {
          "output_type": "stream",
          "name": "stdout",
          "text": [
            "              precision    recall  f1-score   support\n",
            "\n",
            "           0       0.70      0.83      0.76      3423\n",
            "           1       0.79      0.64      0.71      3384\n",
            "\n",
            "    accuracy                           0.74      6807\n",
            "   macro avg       0.75      0.74      0.73      6807\n",
            "weighted avg       0.75      0.74      0.73      6807\n",
            "\n"
          ]
        }
      ],
      "source": [
        "predictions_knn = knn.predict(x_test1)\n",
        "print(classification_report(y_test1,predictions_knn))"
      ]
    },
    {
      "cell_type": "markdown",
      "id": "SLnJlttEWBRC",
      "metadata": {
        "id": "SLnJlttEWBRC"
      },
      "source": [
        "#### Decision Trees"
      ]
    },
    {
      "cell_type": "code",
      "execution_count": null,
      "id": "Cxxjh6Z6WEQM",
      "metadata": {
        "colab": {
          "base_uri": "https://localhost:8080/"
        },
        "id": "Cxxjh6Z6WEQM",
        "outputId": "d3dc68dd-f56a-4c09-82d3-883ef57eada7"
      },
      "outputs": [
        {
          "output_type": "execute_result",
          "data": {
            "text/plain": [
              "DecisionTreeClassifier()"
            ]
          },
          "metadata": {},
          "execution_count": 35
        }
      ],
      "source": [
        "dt=DecisionTreeClassifier()\n",
        "dt.fit(x_train1, y_train1)"
      ]
    },
    {
      "cell_type": "code",
      "execution_count": null,
      "id": "QFMIiHriWfHj",
      "metadata": {
        "colab": {
          "base_uri": "https://localhost:8080/"
        },
        "id": "QFMIiHriWfHj",
        "outputId": "379b5115-05b3-492f-d348-eb14dace54d8"
      },
      "outputs": [
        {
          "output_type": "stream",
          "name": "stdout",
          "text": [
            "              precision    recall  f1-score   support\n",
            "\n",
            "           0       0.81      0.83      0.82      3423\n",
            "           1       0.83      0.80      0.82      3384\n",
            "\n",
            "    accuracy                           0.82      6807\n",
            "   macro avg       0.82      0.82      0.82      6807\n",
            "weighted avg       0.82      0.82      0.82      6807\n",
            "\n"
          ]
        }
      ],
      "source": [
        "predictions_dt = dt.predict(x_test1)\n",
        "print(classification_report(y_test1,predictions_dt))"
      ]
    },
    {
      "cell_type": "markdown",
      "id": "X3LVwH8sW0mb",
      "metadata": {
        "id": "X3LVwH8sW0mb"
      },
      "source": [
        "#### Logistic Regression"
      ]
    },
    {
      "cell_type": "code",
      "execution_count": null,
      "id": "VB_XdARWXDeu",
      "metadata": {
        "colab": {
          "base_uri": "https://localhost:8080/"
        },
        "id": "VB_XdARWXDeu",
        "outputId": "15dd77eb-2827-4924-ab5c-ec278c72f8d3"
      },
      "outputs": [
        {
          "output_type": "execute_result",
          "data": {
            "text/plain": [
              "LogisticRegression(max_iter=1000)"
            ]
          },
          "metadata": {},
          "execution_count": 37
        }
      ],
      "source": [
        "lr=LogisticRegression(solver='lbfgs', max_iter=1000)\n",
        "lr.fit(x_train1, y_train1)"
      ]
    },
    {
      "cell_type": "code",
      "execution_count": null,
      "id": "5YEHS_3tXNnr",
      "metadata": {
        "colab": {
          "base_uri": "https://localhost:8080/"
        },
        "id": "5YEHS_3tXNnr",
        "outputId": "e42fd6d9-1fc0-4ea8-efa4-3a73d18ebb53"
      },
      "outputs": [
        {
          "output_type": "stream",
          "name": "stdout",
          "text": [
            "              precision    recall  f1-score   support\n",
            "\n",
            "           0       0.62      0.28      0.39      3423\n",
            "           1       0.53      0.82      0.65      3384\n",
            "\n",
            "    accuracy                           0.55      6807\n",
            "   macro avg       0.58      0.55      0.52      6807\n",
            "weighted avg       0.58      0.55      0.52      6807\n",
            "\n"
          ]
        }
      ],
      "source": [
        "predictions_lr = lr.predict(x_test1)\n",
        "print(classification_report(y_test1,predictions_lr))"
      ]
    },
    {
      "cell_type": "markdown",
      "id": "loy4veamXVog",
      "metadata": {
        "id": "loy4veamXVog"
      },
      "source": [
        "#### Gaussian Bayes"
      ]
    },
    {
      "cell_type": "code",
      "execution_count": null,
      "id": "OaGVYisWXYh3",
      "metadata": {
        "colab": {
          "base_uri": "https://localhost:8080/"
        },
        "id": "OaGVYisWXYh3",
        "outputId": "fa748199-7899-4275-b0c8-58a5ccd6072c"
      },
      "outputs": [
        {
          "output_type": "execute_result",
          "data": {
            "text/plain": [
              "GaussianNB()"
            ]
          },
          "metadata": {},
          "execution_count": 39
        }
      ],
      "source": [
        "gnb=GaussianNB()\n",
        "gnb.fit(x_train1, y_train1)"
      ]
    },
    {
      "cell_type": "code",
      "execution_count": null,
      "id": "25pvHwk-XgBA",
      "metadata": {
        "colab": {
          "base_uri": "https://localhost:8080/"
        },
        "id": "25pvHwk-XgBA",
        "outputId": "b7fd43f6-ac81-427f-ffe0-eef3082a6bb4"
      },
      "outputs": [
        {
          "output_type": "stream",
          "name": "stdout",
          "text": [
            "              precision    recall  f1-score   support\n",
            "\n",
            "           0       0.64      0.72      0.68      3423\n",
            "           1       0.68      0.60      0.64      3384\n",
            "\n",
            "    accuracy                           0.66      6807\n",
            "   macro avg       0.66      0.66      0.66      6807\n",
            "weighted avg       0.66      0.66      0.66      6807\n",
            "\n"
          ]
        }
      ],
      "source": [
        "predictions_gnb = gnb.predict(x_test1)\n",
        "print(classification_report(y_test1,predictions_gnb))"
      ]
    },
    {
      "cell_type": "markdown",
      "id": "X0dbW3MqQaqb",
      "metadata": {
        "id": "X0dbW3MqQaqb"
      },
      "source": [
        "#### SVM"
      ]
    },
    {
      "cell_type": "code",
      "execution_count": null,
      "id": "66b2405d",
      "metadata": {
        "colab": {
          "base_uri": "https://localhost:8080/"
        },
        "id": "66b2405d",
        "outputId": "86a97b73-385d-425f-98e0-b7fda0908af7"
      },
      "outputs": [
        {
          "output_type": "execute_result",
          "data": {
            "text/plain": [
              "SVC()"
            ]
          },
          "metadata": {},
          "execution_count": 41
        }
      ],
      "source": [
        "model1=SVC()\n",
        "model1.fit(x_train1, y_train1)"
      ]
    },
    {
      "cell_type": "code",
      "execution_count": null,
      "id": "ee01cd78",
      "metadata": {
        "colab": {
          "base_uri": "https://localhost:8080/"
        },
        "id": "ee01cd78",
        "outputId": "aa914e9f-fd1c-4635-dc6f-7e919e005811"
      },
      "outputs": [
        {
          "output_type": "stream",
          "name": "stdout",
          "text": [
            "              precision    recall  f1-score   support\n",
            "\n",
            "           0       0.71      0.62      0.66      3423\n",
            "           1       0.66      0.74      0.70      3384\n",
            "\n",
            "    accuracy                           0.68      6807\n",
            "   macro avg       0.68      0.68      0.68      6807\n",
            "weighted avg       0.68      0.68      0.68      6807\n",
            "\n"
          ]
        }
      ],
      "source": [
        "predictions1 = model1.predict(x_test1)\n",
        "print(classification_report(y_test1,predictions1))"
      ]
    },
    {
      "cell_type": "markdown",
      "id": "orJnhPqFQf9E",
      "metadata": {
        "id": "orJnhPqFQf9E"
      },
      "source": [
        "#### XGBoost"
      ]
    },
    {
      "cell_type": "code",
      "execution_count": null,
      "id": "WbaRVjleQYQG",
      "metadata": {
        "colab": {
          "base_uri": "https://localhost:8080/"
        },
        "id": "WbaRVjleQYQG",
        "outputId": "78119942-dc46-4fa1-f7f4-4c12b952f297"
      },
      "outputs": [
        {
          "output_type": "execute_result",
          "data": {
            "text/plain": [
              "XGBClassifier()"
            ]
          },
          "metadata": {},
          "execution_count": 43
        }
      ],
      "source": [
        "xgb = XGBClassifier()\n",
        "xgb.fit(x_train1, y_train1)"
      ]
    },
    {
      "cell_type": "code",
      "execution_count": null,
      "id": "EuHBw6TCQ53f",
      "metadata": {
        "colab": {
          "base_uri": "https://localhost:8080/"
        },
        "id": "EuHBw6TCQ53f",
        "outputId": "1e27cb3b-2f2f-4bda-8012-c8e10ced5abc"
      },
      "outputs": [
        {
          "output_type": "stream",
          "name": "stdout",
          "text": [
            "              precision    recall  f1-score   support\n",
            "\n",
            "           0       0.89      0.86      0.88      3423\n",
            "           1       0.86      0.90      0.88      3384\n",
            "\n",
            "    accuracy                           0.88      6807\n",
            "   macro avg       0.88      0.88      0.88      6807\n",
            "weighted avg       0.88      0.88      0.88      6807\n",
            "\n"
          ]
        }
      ],
      "source": [
        "predictions_xgb = xgb.predict(x_test1)\n",
        "print(classification_report(y_test1,predictions_xgb))"
      ]
    },
    {
      "cell_type": "markdown",
      "id": "P5-tCEhGQmKG",
      "metadata": {
        "id": "P5-tCEhGQmKG"
      },
      "source": [
        "#### Random Forest Classifier"
      ]
    },
    {
      "cell_type": "code",
      "execution_count": null,
      "id": "L5Eh8_k9OzhW",
      "metadata": {
        "colab": {
          "base_uri": "https://localhost:8080/"
        },
        "id": "L5Eh8_k9OzhW",
        "outputId": "f20a2218-44c4-4708-fc4e-8274ab91bbfc"
      },
      "outputs": [
        {
          "output_type": "execute_result",
          "data": {
            "text/plain": [
              "RandomForestClassifier(max_depth=2, random_state=0)"
            ]
          },
          "metadata": {},
          "execution_count": 45
        }
      ],
      "source": [
        "rf = RandomForestClassifier(max_depth=2, random_state=0)\n",
        "rf.fit(x_train1, y_train1)"
      ]
    },
    {
      "cell_type": "code",
      "execution_count": null,
      "id": "_qbClfyCRgZr",
      "metadata": {
        "colab": {
          "base_uri": "https://localhost:8080/"
        },
        "id": "_qbClfyCRgZr",
        "outputId": "15436302-4bc7-4d45-c270-dfe2b9496bb8"
      },
      "outputs": [
        {
          "output_type": "stream",
          "name": "stdout",
          "text": [
            "              precision    recall  f1-score   support\n",
            "\n",
            "           0       0.77      0.82      0.80      3423\n",
            "           1       0.81      0.76      0.78      3384\n",
            "\n",
            "    accuracy                           0.79      6807\n",
            "   macro avg       0.79      0.79      0.79      6807\n",
            "weighted avg       0.79      0.79      0.79      6807\n",
            "\n"
          ]
        }
      ],
      "source": [
        "predictions_rf = rf.predict(x_test1)\n",
        "print(classification_report(y_test1,predictions_rf))"
      ]
    },
    {
      "cell_type": "markdown",
      "id": "Rd2wTVGNXxHC",
      "metadata": {
        "id": "Rd2wTVGNXxHC"
      },
      "source": [
        "#### Ensemble"
      ]
    },
    {
      "cell_type": "code",
      "execution_count": null,
      "id": "L9f0REW4R_Yx",
      "metadata": {
        "colab": {
          "base_uri": "https://localhost:8080/"
        },
        "id": "L9f0REW4R_Yx",
        "outputId": "7dfe71a6-9875-4994-d25b-518a5923103f"
      },
      "outputs": [
        {
          "output_type": "execute_result",
          "data": {
            "text/plain": [
              "VotingClassifier(estimators=[('svc', SVC()), ('xgb', XGBClassifier()),\n",
              "                             ('rf',\n",
              "                              RandomForestClassifier(max_depth=2,\n",
              "                                                     random_state=0))])"
            ]
          },
          "metadata": {},
          "execution_count": 47
        }
      ],
      "source": [
        "ens = VotingClassifier(estimators=[('svc', model1), ('xgb', xgb), ('rf', rf)], voting='hard')\n",
        "ens.fit(x_train1,y_train1)"
      ]
    },
    {
      "cell_type": "code",
      "execution_count": null,
      "id": "LUJPQM6JVIFc",
      "metadata": {
        "colab": {
          "base_uri": "https://localhost:8080/"
        },
        "id": "LUJPQM6JVIFc",
        "outputId": "3bbecaf3-58c4-4c11-b1d9-ced9e53a822d"
      },
      "outputs": [
        {
          "output_type": "stream",
          "name": "stdout",
          "text": [
            "              precision    recall  f1-score   support\n",
            "\n",
            "           0       0.86      0.83      0.84      3423\n",
            "           1       0.83      0.86      0.85      3384\n",
            "\n",
            "    accuracy                           0.84      6807\n",
            "   macro avg       0.84      0.84      0.84      6807\n",
            "weighted avg       0.84      0.84      0.84      6807\n",
            "\n"
          ]
        }
      ],
      "source": [
        "predictions_ens = ens.predict(x_test1)\n",
        "print(classification_report(y_test1,predictions_ens))"
      ]
    },
    {
      "cell_type": "code",
      "execution_count": null,
      "id": "WdvEFPsnX6xt",
      "metadata": {
        "colab": {
          "base_uri": "https://localhost:8080/"
        },
        "id": "WdvEFPsnX6xt",
        "outputId": "6ffe410f-627f-47b5-dd6f-50b4d8dde517"
      },
      "outputs": [
        {
          "output_type": "execute_result",
          "data": {
            "text/plain": [
              "VotingClassifier(estimators=[('dt', DecisionTreeClassifier()),\n",
              "                             ('xgb', XGBClassifier()),\n",
              "                             ('rf',\n",
              "                              RandomForestClassifier(max_depth=2,\n",
              "                                                     random_state=0))])"
            ]
          },
          "metadata": {},
          "execution_count": 49
        }
      ],
      "source": [
        "ens1 = VotingClassifier(estimators=[('dt', dt), ('xgb', xgb), ('rf', rf)], voting='hard')\n",
        "ens1.fit(x_train1,y_train1)"
      ]
    },
    {
      "cell_type": "code",
      "execution_count": null,
      "id": "-1Hap6QoYHnB",
      "metadata": {
        "colab": {
          "base_uri": "https://localhost:8080/"
        },
        "id": "-1Hap6QoYHnB",
        "outputId": "115385d5-2c29-48a3-d8e2-7cc54accaaf9"
      },
      "outputs": [
        {
          "output_type": "stream",
          "name": "stdout",
          "text": [
            "              precision    recall  f1-score   support\n",
            "\n",
            "           0       0.86      0.87      0.87      3423\n",
            "           1       0.87      0.86      0.86      3384\n",
            "\n",
            "    accuracy                           0.87      6807\n",
            "   macro avg       0.87      0.87      0.87      6807\n",
            "weighted avg       0.87      0.87      0.87      6807\n",
            "\n"
          ]
        }
      ],
      "source": [
        "predictions_ens1 = ens1.predict(x_test1)\n",
        "print(classification_report(y_test1,predictions_ens1))"
      ]
    },
    {
      "cell_type": "code",
      "execution_count": null,
      "id": "DmGZRhLjYLKy",
      "metadata": {
        "colab": {
          "base_uri": "https://localhost:8080/"
        },
        "id": "DmGZRhLjYLKy",
        "outputId": "07cd44c5-7b3f-47c0-cec5-b02631440042"
      },
      "outputs": [
        {
          "output_type": "execute_result",
          "data": {
            "text/plain": [
              "VotingClassifier(estimators=[('knn', KNeighborsClassifier(n_neighbors=4)),\n",
              "                             ('xgb', XGBClassifier()),\n",
              "                             ('rf',\n",
              "                              RandomForestClassifier(max_depth=2,\n",
              "                                                     random_state=0))])"
            ]
          },
          "metadata": {},
          "execution_count": 51
        }
      ],
      "source": [
        "ens2 = VotingClassifier(estimators=[('knn', knn), ('xgb', xgb), ('rf', rf)], voting='hard')\n",
        "ens2.fit(x_train1,y_train1)"
      ]
    },
    {
      "cell_type": "code",
      "execution_count": null,
      "id": "KftOVIiBYQfk",
      "metadata": {
        "colab": {
          "base_uri": "https://localhost:8080/"
        },
        "id": "KftOVIiBYQfk",
        "outputId": "9dc3ba0c-2c5d-45b3-aa11-a5e89be25a20"
      },
      "outputs": [
        {
          "output_type": "stream",
          "name": "stdout",
          "text": [
            "              precision    recall  f1-score   support\n",
            "\n",
            "           0       0.85      0.87      0.86      3423\n",
            "           1       0.87      0.85      0.86      3384\n",
            "\n",
            "    accuracy                           0.86      6807\n",
            "   macro avg       0.86      0.86      0.86      6807\n",
            "weighted avg       0.86      0.86      0.86      6807\n",
            "\n"
          ]
        }
      ],
      "source": [
        "predictions_ens2 = ens2.predict(x_test1)\n",
        "print(classification_report(y_test1,predictions_ens2))"
      ]
    },
    {
      "cell_type": "code",
      "source": [
        "### DT, SVM, XGB, Random Forest\n",
        "ens3 = VotingClassifier(estimators=[('dt', dt), ('svc', model1), ('xgb', xgb), ('rf', rf)], voting='hard')\n",
        "ens3.fit(x_train1,y_train1)\n",
        "\n",
        "predictions_ens3 = ens3.predict(x_test1)\n",
        "print(classification_report(y_test1,predictions_ens3))"
      ],
      "metadata": {
        "colab": {
          "base_uri": "https://localhost:8080/"
        },
        "id": "fioVod41ui4I",
        "outputId": "e6f89bef-ba50-457b-c855-476f204e8425"
      },
      "id": "fioVod41ui4I",
      "execution_count": null,
      "outputs": [
        {
          "output_type": "stream",
          "name": "stdout",
          "text": [
            "              precision    recall  f1-score   support\n",
            "\n",
            "           0       0.82      0.90      0.86      3423\n",
            "           1       0.89      0.80      0.84      3384\n",
            "\n",
            "    accuracy                           0.85      6807\n",
            "   macro avg       0.85      0.85      0.85      6807\n",
            "weighted avg       0.85      0.85      0.85      6807\n",
            "\n"
          ]
        }
      ]
    },
    {
      "cell_type": "markdown",
      "id": "3dc8bd98",
      "metadata": {
        "id": "3dc8bd98"
      },
      "source": [
        "### Week 1 + Week 2 - training"
      ]
    },
    {
      "cell_type": "markdown",
      "id": "iXr9OjuGYqJy",
      "metadata": {
        "id": "iXr9OjuGYqJy"
      },
      "source": [
        "#### SVC"
      ]
    },
    {
      "cell_type": "code",
      "execution_count": null,
      "id": "16457c96",
      "metadata": {
        "colab": {
          "base_uri": "https://localhost:8080/"
        },
        "id": "16457c96",
        "outputId": "fe2ead12-e9d5-487c-d6fc-7f70b951389e"
      },
      "outputs": [
        {
          "output_type": "execute_result",
          "data": {
            "text/plain": [
              "SVC()"
            ]
          },
          "metadata": {},
          "execution_count": 54
        }
      ],
      "source": [
        "model12=SVC()\n",
        "model12.fit(x_train12, y_train12)"
      ]
    },
    {
      "cell_type": "code",
      "execution_count": null,
      "id": "93658fbe",
      "metadata": {
        "colab": {
          "base_uri": "https://localhost:8080/"
        },
        "id": "93658fbe",
        "outputId": "0e3a2435-5169-406f-f0f4-4e5b2cc28c00"
      },
      "outputs": [
        {
          "output_type": "stream",
          "name": "stdout",
          "text": [
            "              precision    recall  f1-score   support\n",
            "\n",
            "           0       0.68      0.63      0.65      4487\n",
            "           1       0.65      0.70      0.67      4411\n",
            "\n",
            "    accuracy                           0.66      8898\n",
            "   macro avg       0.67      0.67      0.66      8898\n",
            "weighted avg       0.67      0.66      0.66      8898\n",
            "\n"
          ]
        }
      ],
      "source": [
        "predictions12 = model12.predict(x_test12)\n",
        "print(classification_report(y_test12,predictions12))"
      ]
    },
    {
      "cell_type": "markdown",
      "id": "STNOlxr-Y0de",
      "metadata": {
        "id": "STNOlxr-Y0de"
      },
      "source": [
        "#### KNN"
      ]
    },
    {
      "cell_type": "code",
      "execution_count": null,
      "id": "key5KkyEYv10",
      "metadata": {
        "colab": {
          "base_uri": "https://localhost:8080/"
        },
        "id": "key5KkyEYv10",
        "outputId": "21386a47-9b0f-4de5-ef26-98e314f7aea3"
      },
      "outputs": [
        {
          "output_type": "execute_result",
          "data": {
            "text/plain": [
              "KNeighborsClassifier(n_neighbors=4)"
            ]
          },
          "metadata": {},
          "execution_count": 56
        }
      ],
      "source": [
        "knn=KNeighborsClassifier(n_neighbors=4, metric='minkowski', p=2 )  \n",
        "knn.fit(x_train12, y_train12)"
      ]
    },
    {
      "cell_type": "code",
      "execution_count": null,
      "id": "j_Wzel4NZOSA",
      "metadata": {
        "colab": {
          "base_uri": "https://localhost:8080/"
        },
        "id": "j_Wzel4NZOSA",
        "outputId": "6132daca-3e2b-47b6-abd1-483698e4412b"
      },
      "outputs": [
        {
          "output_type": "stream",
          "name": "stdout",
          "text": [
            "              precision    recall  f1-score   support\n",
            "\n",
            "           0       0.69      0.83      0.75      4487\n",
            "           1       0.78      0.61      0.69      4411\n",
            "\n",
            "    accuracy                           0.72      8898\n",
            "   macro avg       0.73      0.72      0.72      8898\n",
            "weighted avg       0.73      0.72      0.72      8898\n",
            "\n"
          ]
        }
      ],
      "source": [
        "predictions12_knn = knn.predict(x_test12)\n",
        "print(classification_report(y_test12,predictions12_knn))"
      ]
    },
    {
      "cell_type": "markdown",
      "source": [
        "#### Decision Trees"
      ],
      "metadata": {
        "id": "kPziLdTZa_E5"
      },
      "id": "kPziLdTZa_E5"
    },
    {
      "cell_type": "code",
      "source": [
        "dt=DecisionTreeClassifier()\n",
        "dt.fit(x_train12, y_train12)"
      ],
      "metadata": {
        "colab": {
          "base_uri": "https://localhost:8080/"
        },
        "id": "hgHoePjCbA3s",
        "outputId": "8dd26671-1b94-4f9d-a79b-9fbf2d4e4268"
      },
      "id": "hgHoePjCbA3s",
      "execution_count": null,
      "outputs": [
        {
          "output_type": "execute_result",
          "data": {
            "text/plain": [
              "DecisionTreeClassifier()"
            ]
          },
          "metadata": {},
          "execution_count": 58
        }
      ]
    },
    {
      "cell_type": "code",
      "source": [
        "predictions12_dt = dt.predict(x_test12)\n",
        "print(classification_report(y_test12,predictions12_dt))"
      ],
      "metadata": {
        "colab": {
          "base_uri": "https://localhost:8080/"
        },
        "id": "g8oMwelxbRX7",
        "outputId": "71ca189b-8e51-4c1c-d4a7-36cf42f3e93f"
      },
      "id": "g8oMwelxbRX7",
      "execution_count": null,
      "outputs": [
        {
          "output_type": "stream",
          "name": "stdout",
          "text": [
            "              precision    recall  f1-score   support\n",
            "\n",
            "           0       0.83      0.85      0.84      4487\n",
            "           1       0.84      0.83      0.83      4411\n",
            "\n",
            "    accuracy                           0.84      8898\n",
            "   macro avg       0.84      0.84      0.84      8898\n",
            "weighted avg       0.84      0.84      0.84      8898\n",
            "\n"
          ]
        }
      ]
    },
    {
      "cell_type": "markdown",
      "id": "T3PdHi8LZw4g",
      "metadata": {
        "id": "T3PdHi8LZw4g"
      },
      "source": [
        "#### XGBoost"
      ]
    },
    {
      "cell_type": "code",
      "execution_count": null,
      "id": "E7vpqjU7Zz29",
      "metadata": {
        "colab": {
          "base_uri": "https://localhost:8080/"
        },
        "id": "E7vpqjU7Zz29",
        "outputId": "8e08a2ce-db18-4d3b-fe60-c91ef7271596"
      },
      "outputs": [
        {
          "output_type": "execute_result",
          "data": {
            "text/plain": [
              "XGBClassifier()"
            ]
          },
          "metadata": {},
          "execution_count": 60
        }
      ],
      "source": [
        "xgb = XGBClassifier()\n",
        "xgb.fit(x_train12, y_train12)"
      ]
    },
    {
      "cell_type": "code",
      "execution_count": null,
      "id": "b4f1ZwKxaIG8",
      "metadata": {
        "colab": {
          "base_uri": "https://localhost:8080/"
        },
        "id": "b4f1ZwKxaIG8",
        "outputId": "154bfb06-f463-4257-c2b1-7cc212dcb044"
      },
      "outputs": [
        {
          "output_type": "stream",
          "name": "stdout",
          "text": [
            "              precision    recall  f1-score   support\n",
            "\n",
            "           0       0.90      0.86      0.88      4487\n",
            "           1       0.86      0.91      0.88      4411\n",
            "\n",
            "    accuracy                           0.88      8898\n",
            "   macro avg       0.88      0.88      0.88      8898\n",
            "weighted avg       0.88      0.88      0.88      8898\n",
            "\n"
          ]
        }
      ],
      "source": [
        "predictions_xgb = xgb.predict(x_test12)\n",
        "print(classification_report(y_test12,predictions_xgb))"
      ]
    },
    {
      "cell_type": "markdown",
      "id": "Afy_qIpfagYm",
      "metadata": {
        "id": "Afy_qIpfagYm"
      },
      "source": [
        "#### Random Forest"
      ]
    },
    {
      "cell_type": "code",
      "execution_count": null,
      "id": "Bjngjz68Z-DE",
      "metadata": {
        "colab": {
          "base_uri": "https://localhost:8080/"
        },
        "id": "Bjngjz68Z-DE",
        "outputId": "9755eff5-f5ab-4d66-99cf-8859123c05a1"
      },
      "outputs": [
        {
          "output_type": "execute_result",
          "data": {
            "text/plain": [
              "RandomForestClassifier(max_depth=2, random_state=0)"
            ]
          },
          "metadata": {},
          "execution_count": 62
        }
      ],
      "source": [
        "rf = RandomForestClassifier(max_depth=2, random_state=0)\n",
        "rf.fit(x_train12, y_train12)"
      ]
    },
    {
      "cell_type": "code",
      "execution_count": null,
      "id": "CdG9ST9talJf",
      "metadata": {
        "colab": {
          "base_uri": "https://localhost:8080/"
        },
        "id": "CdG9ST9talJf",
        "outputId": "91a7c610-6ada-4ecc-81ec-9148f8cb9d10"
      },
      "outputs": [
        {
          "output_type": "stream",
          "name": "stdout",
          "text": [
            "              precision    recall  f1-score   support\n",
            "\n",
            "           0       0.78      0.84      0.81      4487\n",
            "           1       0.82      0.76      0.79      4411\n",
            "\n",
            "    accuracy                           0.80      8898\n",
            "   macro avg       0.80      0.80      0.80      8898\n",
            "weighted avg       0.80      0.80      0.80      8898\n",
            "\n"
          ]
        }
      ],
      "source": [
        "predictions_rf = rf.predict(x_test12)\n",
        "print(classification_report(y_test12,predictions_rf))"
      ]
    },
    {
      "cell_type": "markdown",
      "id": "wmF6r9KuarE2",
      "metadata": {
        "id": "wmF6r9KuarE2"
      },
      "source": [
        "#### Ensembles"
      ]
    },
    {
      "cell_type": "code",
      "execution_count": null,
      "id": "PTxunQudasys",
      "metadata": {
        "colab": {
          "base_uri": "https://localhost:8080/"
        },
        "id": "PTxunQudasys",
        "outputId": "eacc87bf-0e79-44b7-c554-b12b8edd2a9e"
      },
      "outputs": [
        {
          "output_type": "stream",
          "name": "stdout",
          "text": [
            "              precision    recall  f1-score   support\n",
            "\n",
            "           0       0.86      0.83      0.85      4487\n",
            "           1       0.84      0.86      0.85      4411\n",
            "\n",
            "    accuracy                           0.85      8898\n",
            "   macro avg       0.85      0.85      0.85      8898\n",
            "weighted avg       0.85      0.85      0.85      8898\n",
            "\n"
          ]
        }
      ],
      "source": [
        "ens = VotingClassifier(estimators=[('svc', model12), ('xgb', xgb), ('rf', rf)], voting='hard')\n",
        "ens.fit(x_train12,y_train12)\n",
        "predictions_ens = ens.predict(x_test12)\n",
        "print(classification_report(y_test12,predictions_ens))"
      ]
    },
    {
      "cell_type": "code",
      "source": [
        "ens1 = VotingClassifier(estimators=[('knn', knn), ('xgb', xgb), ('rf', rf)], voting='hard')\n",
        "ens1.fit(x_train12,y_train12)\n",
        "predictions_ens = ens.predict(x_test12)\n",
        "print(classification_report(y_test12,predictions_ens))"
      ],
      "metadata": {
        "colab": {
          "base_uri": "https://localhost:8080/"
        },
        "id": "DTegLOiZbdKX",
        "outputId": "fb6d12ee-3574-476e-bb0a-b32d5b22e001"
      },
      "id": "DTegLOiZbdKX",
      "execution_count": null,
      "outputs": [
        {
          "output_type": "stream",
          "name": "stdout",
          "text": [
            "              precision    recall  f1-score   support\n",
            "\n",
            "           0       0.86      0.83      0.85      4487\n",
            "           1       0.84      0.86      0.85      4411\n",
            "\n",
            "    accuracy                           0.85      8898\n",
            "   macro avg       0.85      0.85      0.85      8898\n",
            "weighted avg       0.85      0.85      0.85      8898\n",
            "\n"
          ]
        }
      ]
    },
    {
      "cell_type": "code",
      "source": [
        "ens2 = VotingClassifier(estimators=[('dt', dt), ('xgb', xgb), ('rf', rf)], voting='hard')\n",
        "ens2.fit(x_train12,y_train12)\n",
        "predictions_ens = ens.predict(x_test12)\n",
        "print(classification_report(y_test12,predictions_ens))"
      ],
      "metadata": {
        "colab": {
          "base_uri": "https://localhost:8080/"
        },
        "id": "sGPM6diwb8vc",
        "outputId": "23a250a8-d521-42cd-ced2-3a678993c1c1"
      },
      "id": "sGPM6diwb8vc",
      "execution_count": null,
      "outputs": [
        {
          "output_type": "stream",
          "name": "stdout",
          "text": [
            "              precision    recall  f1-score   support\n",
            "\n",
            "           0       0.86      0.83      0.85      4487\n",
            "           1       0.84      0.86      0.85      4411\n",
            "\n",
            "    accuracy                           0.85      8898\n",
            "   macro avg       0.85      0.85      0.85      8898\n",
            "weighted avg       0.85      0.85      0.85      8898\n",
            "\n"
          ]
        }
      ]
    },
    {
      "cell_type": "code",
      "source": [
        "### DT, SVM, XGB, Random Forest\n",
        "ens3 = VotingClassifier(estimators=[('dt', dt), ('svc', model12), ('xgb', xgb), ('rf', rf)], voting='hard')\n",
        "ens3.fit(x_train12,y_train12)\n",
        "predictions_ens3 = ens3.predict(x_test12)\n",
        "print(classification_report(y_test12,predictions_ens3))"
      ],
      "metadata": {
        "colab": {
          "base_uri": "https://localhost:8080/"
        },
        "id": "AOvVT6vUu1u1",
        "outputId": "45508591-710d-4c82-9f50-9a10b3e0cfd4"
      },
      "id": "AOvVT6vUu1u1",
      "execution_count": null,
      "outputs": [
        {
          "output_type": "stream",
          "name": "stdout",
          "text": [
            "              precision    recall  f1-score   support\n",
            "\n",
            "           0       0.83      0.90      0.86      4487\n",
            "           1       0.89      0.81      0.85      4411\n",
            "\n",
            "    accuracy                           0.85      8898\n",
            "   macro avg       0.86      0.85      0.85      8898\n",
            "weighted avg       0.86      0.85      0.85      8898\n",
            "\n"
          ]
        }
      ]
    },
    {
      "cell_type": "markdown",
      "id": "0a59c2c4",
      "metadata": {
        "id": "0a59c2c4"
      },
      "source": [
        "### Week 1 + Week 2 + Week 3 - training"
      ]
    },
    {
      "cell_type": "markdown",
      "source": [
        "#### SVM"
      ],
      "metadata": {
        "id": "QKOey6h-cG07"
      },
      "id": "QKOey6h-cG07"
    },
    {
      "cell_type": "code",
      "execution_count": null,
      "id": "cd9516f0",
      "metadata": {
        "colab": {
          "base_uri": "https://localhost:8080/"
        },
        "id": "cd9516f0",
        "outputId": "16b99326-1ad8-418d-bf99-5f7d53c7e42c"
      },
      "outputs": [
        {
          "output_type": "execute_result",
          "data": {
            "text/plain": [
              "SVC()"
            ]
          },
          "metadata": {},
          "execution_count": 68
        }
      ],
      "source": [
        "model123=SVC()\n",
        "model123.fit(x_train123, y_train123)"
      ]
    },
    {
      "cell_type": "code",
      "execution_count": null,
      "id": "6ed4933e",
      "metadata": {
        "colab": {
          "base_uri": "https://localhost:8080/"
        },
        "id": "6ed4933e",
        "outputId": "e1a6afc3-c964-4ffd-fb26-8b7b7dfcc48f"
      },
      "outputs": [
        {
          "output_type": "stream",
          "name": "stdout",
          "text": [
            "              precision    recall  f1-score   support\n",
            "\n",
            "           0       0.71      0.59      0.65      1704\n",
            "           1       0.65      0.76      0.70      1671\n",
            "\n",
            "    accuracy                           0.68      3375\n",
            "   macro avg       0.68      0.68      0.67      3375\n",
            "weighted avg       0.68      0.68      0.67      3375\n",
            "\n"
          ]
        }
      ],
      "source": [
        "predictions123 = model123.predict(x_test123)\n",
        "print(classification_report(y_test123,predictions123))"
      ]
    },
    {
      "cell_type": "markdown",
      "source": [
        "#### KNN"
      ],
      "metadata": {
        "id": "GiLvSG87cKaG"
      },
      "id": "GiLvSG87cKaG"
    },
    {
      "cell_type": "code",
      "source": [
        "knn=KNeighborsClassifier(n_neighbors=4, metric='minkowski', p=2 )  \n",
        "knn.fit(x_train123, y_train123)\n",
        "predictions123_knn = knn.predict(x_test123)\n",
        "print(classification_report(y_test123,predictions123_knn))"
      ],
      "metadata": {
        "colab": {
          "base_uri": "https://localhost:8080/"
        },
        "id": "hUj5IYClcLzH",
        "outputId": "5b72390f-f506-43a5-caa2-de79691dbae5"
      },
      "id": "hUj5IYClcLzH",
      "execution_count": null,
      "outputs": [
        {
          "output_type": "stream",
          "name": "stdout",
          "text": [
            "              precision    recall  f1-score   support\n",
            "\n",
            "           0       0.67      0.83      0.74      1704\n",
            "           1       0.77      0.58      0.66      1671\n",
            "\n",
            "    accuracy                           0.71      3375\n",
            "   macro avg       0.72      0.70      0.70      3375\n",
            "weighted avg       0.72      0.71      0.70      3375\n",
            "\n"
          ]
        }
      ]
    },
    {
      "cell_type": "markdown",
      "source": [
        "#### Decision Tree"
      ],
      "metadata": {
        "id": "7VIX6vyycklu"
      },
      "id": "7VIX6vyycklu"
    },
    {
      "cell_type": "code",
      "source": [
        "dt=DecisionTreeClassifier()\n",
        "dt.fit(x_train123, y_train123)\n",
        "predictions123_dt = dt.predict(x_test123)\n",
        "print(classification_report(y_test123,predictions123_dt))"
      ],
      "metadata": {
        "colab": {
          "base_uri": "https://localhost:8080/"
        },
        "id": "OOZMC2Ptcmge",
        "outputId": "15aa91d5-3c33-4743-99dd-a1cbc80bfc7c"
      },
      "id": "OOZMC2Ptcmge",
      "execution_count": null,
      "outputs": [
        {
          "output_type": "stream",
          "name": "stdout",
          "text": [
            "              precision    recall  f1-score   support\n",
            "\n",
            "           0       0.74      0.75      0.74      1704\n",
            "           1       0.74      0.73      0.73      1671\n",
            "\n",
            "    accuracy                           0.74      3375\n",
            "   macro avg       0.74      0.74      0.74      3375\n",
            "weighted avg       0.74      0.74      0.74      3375\n",
            "\n"
          ]
        }
      ]
    },
    {
      "cell_type": "markdown",
      "id": "HzueAJljp4vy",
      "metadata": {
        "id": "HzueAJljp4vy"
      },
      "source": [
        "#### XGBoost"
      ]
    },
    {
      "cell_type": "code",
      "execution_count": null,
      "id": "M5vnqUM_p6YQ",
      "metadata": {
        "colab": {
          "base_uri": "https://localhost:8080/"
        },
        "id": "M5vnqUM_p6YQ",
        "outputId": "81d12942-6c18-4673-f5b3-dcdf34b49343"
      },
      "outputs": [
        {
          "output_type": "stream",
          "name": "stdout",
          "text": [
            "              precision    recall  f1-score   support\n",
            "\n",
            "           0       0.80      0.81      0.81      1704\n",
            "           1       0.81      0.80      0.80      1671\n",
            "\n",
            "    accuracy                           0.80      3375\n",
            "   macro avg       0.80      0.80      0.80      3375\n",
            "weighted avg       0.80      0.80      0.80      3375\n",
            "\n"
          ]
        }
      ],
      "source": [
        "xgb = XGBClassifier()\n",
        "xgb.fit(x_train123, y_train123)\n",
        "predictions_xgb = xgb.predict(x_test123)\n",
        "print(classification_report(y_test123,predictions_xgb))"
      ]
    },
    {
      "cell_type": "markdown",
      "id": "8dwqt3XOqNn2",
      "metadata": {
        "id": "8dwqt3XOqNn2"
      },
      "source": [
        "#### Random Forest "
      ]
    },
    {
      "cell_type": "code",
      "execution_count": null,
      "id": "1zZ2EyT5qRjr",
      "metadata": {
        "colab": {
          "base_uri": "https://localhost:8080/"
        },
        "id": "1zZ2EyT5qRjr",
        "outputId": "243de50c-1ffa-4fce-f558-e1be641f22f1"
      },
      "outputs": [
        {
          "output_type": "stream",
          "name": "stdout",
          "text": [
            "              precision    recall  f1-score   support\n",
            "\n",
            "           0       0.74      0.73      0.73      1704\n",
            "           1       0.73      0.73      0.73      1671\n",
            "\n",
            "    accuracy                           0.73      3375\n",
            "   macro avg       0.73      0.73      0.73      3375\n",
            "weighted avg       0.73      0.73      0.73      3375\n",
            "\n"
          ]
        }
      ],
      "source": [
        "rf = RandomForestClassifier(max_depth=2, random_state=0)\n",
        "rf.fit(x_train123, y_train123)\n",
        "predictions_rf = rf.predict(x_test123)\n",
        "print(classification_report(y_test123,predictions_rf))"
      ]
    },
    {
      "cell_type": "markdown",
      "id": "DsvgaglDqeK_",
      "metadata": {
        "id": "DsvgaglDqeK_"
      },
      "source": [
        "#### Ensembles"
      ]
    },
    {
      "cell_type": "code",
      "execution_count": null,
      "id": "OoEu8blrqmTT",
      "metadata": {
        "colab": {
          "base_uri": "https://localhost:8080/"
        },
        "id": "OoEu8blrqmTT",
        "outputId": "db5f66ca-f578-426f-bcbf-1718a612a17c"
      },
      "outputs": [
        {
          "output_type": "stream",
          "name": "stdout",
          "text": [
            "              precision    recall  f1-score   support\n",
            "\n",
            "           0       0.78      0.78      0.78      1704\n",
            "           1       0.78      0.78      0.78      1671\n",
            "\n",
            "    accuracy                           0.78      3375\n",
            "   macro avg       0.78      0.78      0.78      3375\n",
            "weighted avg       0.78      0.78      0.78      3375\n",
            "\n"
          ]
        }
      ],
      "source": [
        "ens = VotingClassifier(estimators=[('svc', model123), ('xgb', xgb), ('rf', rf)], voting='hard')\n",
        "ens.fit(x_train123,y_train123)\n",
        "\n",
        "predictions_ens = ens.predict(x_test123)\n",
        "print(classification_report(y_test123,predictions_ens))"
      ]
    },
    {
      "cell_type": "code",
      "source": [
        "ens1 = VotingClassifier(estimators=[('knn', knn), ('xgb', xgb), ('rf', rf)], voting='hard')\n",
        "ens1.fit(x_train123,y_train123)\n",
        "\n",
        "predictions_ens = ens1.predict(x_test123)\n",
        "print(classification_report(y_test123,predictions_ens))"
      ],
      "metadata": {
        "colab": {
          "base_uri": "https://localhost:8080/"
        },
        "id": "pSzk5ggWc82v",
        "outputId": "fb6062b0-5db8-4a6b-96b5-e7ec0c26a0b6"
      },
      "id": "pSzk5ggWc82v",
      "execution_count": null,
      "outputs": [
        {
          "output_type": "stream",
          "name": "stdout",
          "text": [
            "              precision    recall  f1-score   support\n",
            "\n",
            "           0       0.77      0.82      0.80      1704\n",
            "           1       0.81      0.75      0.78      1671\n",
            "\n",
            "    accuracy                           0.79      3375\n",
            "   macro avg       0.79      0.79      0.79      3375\n",
            "weighted avg       0.79      0.79      0.79      3375\n",
            "\n"
          ]
        }
      ]
    },
    {
      "cell_type": "code",
      "source": [
        "ens2 = VotingClassifier(estimators=[('dt', dt), ('xgb', xgb), ('rf', rf)], voting='hard')\n",
        "ens2.fit(x_train123,y_train123)\n",
        "\n",
        "predictions_ens = ens2.predict(x_test123)\n",
        "print(classification_report(y_test123,predictions_ens))"
      ],
      "metadata": {
        "colab": {
          "base_uri": "https://localhost:8080/"
        },
        "id": "RNXfRCsLdDEm",
        "outputId": "5d059de9-7508-4a0e-b5c7-88b328e1bfe2"
      },
      "id": "RNXfRCsLdDEm",
      "execution_count": null,
      "outputs": [
        {
          "output_type": "stream",
          "name": "stdout",
          "text": [
            "              precision    recall  f1-score   support\n",
            "\n",
            "           0       0.79      0.79      0.79      1704\n",
            "           1       0.78      0.78      0.78      1671\n",
            "\n",
            "    accuracy                           0.78      3375\n",
            "   macro avg       0.78      0.78      0.78      3375\n",
            "weighted avg       0.78      0.78      0.78      3375\n",
            "\n"
          ]
        }
      ]
    },
    {
      "cell_type": "code",
      "source": [
        "### DT, SVM, XGB, Random Forest\n",
        "ens3 = VotingClassifier(estimators=[('dt', dt), ('svc', model123), ('xgb', xgb), ('rf', rf)], voting='hard')\n",
        "ens3.fit(x_train123,y_train123)\n",
        "\n",
        "predictions_ens3 = ens3.predict(x_test123)\n",
        "print(classification_report(y_test123,predictions_ens3))"
      ],
      "metadata": {
        "colab": {
          "base_uri": "https://localhost:8080/"
        },
        "id": "RHTNAf77u8aA",
        "outputId": "9937bfdb-a79e-4b7b-f166-a107612e89ea"
      },
      "id": "RHTNAf77u8aA",
      "execution_count": null,
      "outputs": [
        {
          "output_type": "stream",
          "name": "stdout",
          "text": [
            "              precision    recall  f1-score   support\n",
            "\n",
            "           0       0.76      0.84      0.80      1704\n",
            "           1       0.81      0.73      0.77      1671\n",
            "\n",
            "    accuracy                           0.78      3375\n",
            "   macro avg       0.79      0.78      0.78      3375\n",
            "weighted avg       0.79      0.78      0.78      3375\n",
            "\n"
          ]
        }
      ]
    },
    {
      "cell_type": "markdown",
      "id": "18dacfbf",
      "metadata": {
        "id": "18dacfbf"
      },
      "source": [
        "### Week 1 + Week 2 + Week 3 + Week 4 - training"
      ]
    },
    {
      "cell_type": "markdown",
      "id": "Seul6OBur0Ou",
      "metadata": {
        "id": "Seul6OBur0Ou"
      },
      "source": [
        "#### SVC"
      ]
    },
    {
      "cell_type": "code",
      "execution_count": null,
      "id": "2650ce7c",
      "metadata": {
        "id": "2650ce7c",
        "colab": {
          "base_uri": "https://localhost:8080/"
        },
        "outputId": "f178fd33-130f-4af9-afb4-bc12a8fc70ea"
      },
      "outputs": [
        {
          "output_type": "execute_result",
          "data": {
            "text/plain": [
              "SVC()"
            ]
          },
          "metadata": {},
          "execution_count": 78
        }
      ],
      "source": [
        "model1234=SVC()\n",
        "model1234.fit(x_train1234, y_train1234)"
      ]
    },
    {
      "cell_type": "code",
      "execution_count": null,
      "id": "98100af4",
      "metadata": {
        "id": "98100af4",
        "colab": {
          "base_uri": "https://localhost:8080/"
        },
        "outputId": "f1616447-3fce-4488-a470-1ae0fdd6ed5c"
      },
      "outputs": [
        {
          "output_type": "stream",
          "name": "stdout",
          "text": [
            "              precision    recall  f1-score   support\n",
            "\n",
            "           0       0.66      0.59      0.63      8811\n",
            "           1       0.64      0.70      0.67      8951\n",
            "\n",
            "    accuracy                           0.65     17762\n",
            "   macro avg       0.65      0.65      0.65     17762\n",
            "weighted avg       0.65      0.65      0.65     17762\n",
            "\n"
          ]
        }
      ],
      "source": [
        "predictions1234 = model1234.predict(x_test1234)\n",
        "print(classification_report(y_test1234,predictions1234))"
      ]
    },
    {
      "cell_type": "markdown",
      "source": [
        "#### KNN"
      ],
      "metadata": {
        "id": "flARVj-MdV9z"
      },
      "id": "flARVj-MdV9z"
    },
    {
      "cell_type": "code",
      "source": [
        "knn=KNeighborsClassifier(n_neighbors=4, metric='minkowski', p=2 )  \n",
        "knn.fit(x_train1234, y_train1234)\n",
        "predictions1234_knn = knn.predict(x_test1234)\n",
        "print(classification_report(y_test1234,predictions1234_knn))"
      ],
      "metadata": {
        "id": "5QbMqmWBdXfh",
        "colab": {
          "base_uri": "https://localhost:8080/"
        },
        "outputId": "287c661d-f695-4170-9ea2-a7a1fb400d3a"
      },
      "id": "5QbMqmWBdXfh",
      "execution_count": null,
      "outputs": [
        {
          "output_type": "stream",
          "name": "stdout",
          "text": [
            "              precision    recall  f1-score   support\n",
            "\n",
            "           0       0.67      0.84      0.75      8811\n",
            "           1       0.79      0.60      0.68      8951\n",
            "\n",
            "    accuracy                           0.72     17762\n",
            "   macro avg       0.73      0.72      0.71     17762\n",
            "weighted avg       0.73      0.72      0.71     17762\n",
            "\n"
          ]
        }
      ]
    },
    {
      "cell_type": "markdown",
      "source": [
        "#### Decision Tree"
      ],
      "metadata": {
        "id": "LXG8eCyjdcLG"
      },
      "id": "LXG8eCyjdcLG"
    },
    {
      "cell_type": "code",
      "source": [
        "dt=DecisionTreeClassifier()\n",
        "dt.fit(x_train1234, y_train1234)\n",
        "predictions1234_dt = dt.predict(x_test1234)\n",
        "print(classification_report(y_test1234,predictions1234_dt))"
      ],
      "metadata": {
        "id": "OEpuSEvhdj4k",
        "colab": {
          "base_uri": "https://localhost:8080/"
        },
        "outputId": "c3037fec-1073-438a-a948-6073263ff1b9"
      },
      "id": "OEpuSEvhdj4k",
      "execution_count": null,
      "outputs": [
        {
          "output_type": "stream",
          "name": "stdout",
          "text": [
            "              precision    recall  f1-score   support\n",
            "\n",
            "           0       0.87      0.88      0.87      8811\n",
            "           1       0.88      0.87      0.87      8951\n",
            "\n",
            "    accuracy                           0.87     17762\n",
            "   macro avg       0.87      0.87      0.87     17762\n",
            "weighted avg       0.87      0.87      0.87     17762\n",
            "\n"
          ]
        }
      ]
    },
    {
      "cell_type": "markdown",
      "id": "D-d4x7F4q8KE",
      "metadata": {
        "id": "D-d4x7F4q8KE"
      },
      "source": [
        "#### XGBoost"
      ]
    },
    {
      "cell_type": "code",
      "execution_count": null,
      "id": "_UHrKZz9q-JX",
      "metadata": {
        "id": "_UHrKZz9q-JX",
        "colab": {
          "base_uri": "https://localhost:8080/"
        },
        "outputId": "50eac8b3-f21a-48ae-9c5c-faeaa4ad6348"
      },
      "outputs": [
        {
          "output_type": "stream",
          "name": "stdout",
          "text": [
            "              precision    recall  f1-score   support\n",
            "\n",
            "           0       0.93      0.88      0.90      8811\n",
            "           1       0.89      0.93      0.91      8951\n",
            "\n",
            "    accuracy                           0.91     17762\n",
            "   macro avg       0.91      0.90      0.90     17762\n",
            "weighted avg       0.91      0.91      0.90     17762\n",
            "\n"
          ]
        }
      ],
      "source": [
        "xgb = XGBClassifier()\n",
        "xgb.fit(x_train1234, y_train1234)\n",
        "predictions_xgb = xgb.predict(x_test1234)\n",
        "print(classification_report(y_test1234,predictions_xgb))"
      ]
    },
    {
      "cell_type": "markdown",
      "id": "yxu6sxKZrC2r",
      "metadata": {
        "id": "yxu6sxKZrC2r"
      },
      "source": [
        "#### Random Forest"
      ]
    },
    {
      "cell_type": "code",
      "execution_count": null,
      "id": "Ly4uPwFWrH0s",
      "metadata": {
        "id": "Ly4uPwFWrH0s",
        "colab": {
          "base_uri": "https://localhost:8080/"
        },
        "outputId": "6acd7aed-b65e-4f9a-fa96-0637bc0e67cf"
      },
      "outputs": [
        {
          "output_type": "stream",
          "name": "stdout",
          "text": [
            "              precision    recall  f1-score   support\n",
            "\n",
            "           0       0.82      0.79      0.81      8811\n",
            "           1       0.80      0.83      0.82      8951\n",
            "\n",
            "    accuracy                           0.81     17762\n",
            "   macro avg       0.81      0.81      0.81     17762\n",
            "weighted avg       0.81      0.81      0.81     17762\n",
            "\n"
          ]
        }
      ],
      "source": [
        "rf = RandomForestClassifier(max_depth=2, random_state=0)\n",
        "rf.fit(x_train1234, y_train1234)\n",
        "predictions_rf = rf.predict(x_test1234)\n",
        "print(classification_report(y_test1234,predictions_rf))"
      ]
    },
    {
      "cell_type": "markdown",
      "id": "cyvS9PD0rNUY",
      "metadata": {
        "id": "cyvS9PD0rNUY"
      },
      "source": [
        "#### Ensembles"
      ]
    },
    {
      "cell_type": "code",
      "execution_count": null,
      "id": "Rmlyu-2_rPIg",
      "metadata": {
        "id": "Rmlyu-2_rPIg",
        "colab": {
          "base_uri": "https://localhost:8080/"
        },
        "outputId": "79a0f888-24d7-46f0-d250-6b004ee35edf"
      },
      "outputs": [
        {
          "output_type": "stream",
          "name": "stdout",
          "text": [
            "              precision    recall  f1-score   support\n",
            "\n",
            "           0       0.88      0.80      0.84      8811\n",
            "           1       0.82      0.89      0.85      8951\n",
            "\n",
            "    accuracy                           0.84     17762\n",
            "   macro avg       0.85      0.84      0.84     17762\n",
            "weighted avg       0.85      0.84      0.84     17762\n",
            "\n"
          ]
        }
      ],
      "source": [
        "ens = VotingClassifier(estimators=[('svc', model1234), ('xgb', xgb), ('rf', rf)], voting='hard')\n",
        "ens.fit(x_train1234,y_train1234)\n",
        "\n",
        "predictions_ens = ens.predict(x_test1234)\n",
        "print(classification_report(y_test1234,predictions_ens))"
      ]
    },
    {
      "cell_type": "code",
      "source": [
        "ens1 = VotingClassifier(estimators=[('knn', knn), ('xgb', xgb), ('rf', rf)], voting='hard')\n",
        "ens1.fit(x_train1234,y_train1234)\n",
        "\n",
        "predictions_ens = ens1.predict(x_test1234)\n",
        "print(classification_report(y_test1234,predictions_ens))"
      ],
      "metadata": {
        "id": "OJh2HFE5dx8I",
        "colab": {
          "base_uri": "https://localhost:8080/"
        },
        "outputId": "043f2f83-22b8-4fbe-9ba7-403382db5389"
      },
      "id": "OJh2HFE5dx8I",
      "execution_count": null,
      "outputs": [
        {
          "output_type": "stream",
          "name": "stdout",
          "text": [
            "              precision    recall  f1-score   support\n",
            "\n",
            "           0       0.88      0.87      0.88      8811\n",
            "           1       0.87      0.89      0.88      8951\n",
            "\n",
            "    accuracy                           0.88     17762\n",
            "   macro avg       0.88      0.88      0.88     17762\n",
            "weighted avg       0.88      0.88      0.88     17762\n",
            "\n"
          ]
        }
      ]
    },
    {
      "cell_type": "code",
      "source": [
        "ens2 = VotingClassifier(estimators=[('dt', dt), ('xgb', xgb), ('rf', rf)], voting='hard')\n",
        "ens2.fit(x_train1234,y_train1234)\n",
        "\n",
        "predictions_ens = ens1.predict(x_test1234)\n",
        "print(classification_report(y_test1234,predictions_ens))"
      ],
      "metadata": {
        "id": "ds-2E7QOd9t6",
        "colab": {
          "base_uri": "https://localhost:8080/"
        },
        "outputId": "d95e8f00-abdf-4794-9e44-4b9bbcd2663c"
      },
      "id": "ds-2E7QOd9t6",
      "execution_count": null,
      "outputs": [
        {
          "output_type": "stream",
          "name": "stdout",
          "text": [
            "              precision    recall  f1-score   support\n",
            "\n",
            "           0       0.88      0.87      0.88      8811\n",
            "           1       0.87      0.89      0.88      8951\n",
            "\n",
            "    accuracy                           0.88     17762\n",
            "   macro avg       0.88      0.88      0.88     17762\n",
            "weighted avg       0.88      0.88      0.88     17762\n",
            "\n"
          ]
        }
      ]
    },
    {
      "cell_type": "code",
      "source": [
        "### DT, SVM, XGB, Random Forest\n",
        "ens3 = VotingClassifier(estimators=[('dt', dt), ('svc', model1234), ('xgb', xgb), ('rf', rf)], voting='hard')\n",
        "ens3.fit(x_train1234,y_train1234)\n",
        "\n",
        "predictions_ens3 = ens3.predict(x_test1234)\n",
        "print(classification_report(y_test1234,predictions_ens3))"
      ],
      "metadata": {
        "colab": {
          "base_uri": "https://localhost:8080/"
        },
        "id": "Cey0K5K0vC-A",
        "outputId": "497eda3a-b1d8-410f-8ea9-2179722bdc5b"
      },
      "id": "Cey0K5K0vC-A",
      "execution_count": null,
      "outputs": [
        {
          "output_type": "stream",
          "name": "stdout",
          "text": [
            "              precision    recall  f1-score   support\n",
            "\n",
            "           0       0.86      0.91      0.88      8811\n",
            "           1       0.90      0.85      0.88      8951\n",
            "\n",
            "    accuracy                           0.88     17762\n",
            "   macro avg       0.88      0.88      0.88     17762\n",
            "weighted avg       0.88      0.88      0.88     17762\n",
            "\n"
          ]
        }
      ]
    },
    {
      "cell_type": "code",
      "source": [],
      "metadata": {
        "id": "jirrfUUZrmde"
      },
      "id": "jirrfUUZrmde",
      "execution_count": null,
      "outputs": []
    },
    {
      "cell_type": "markdown",
      "source": [
        "## Stacking ensembles"
      ],
      "metadata": {
        "id": "-i02cjgZm9kC"
      },
      "id": "-i02cjgZm9kC"
    },
    {
      "cell_type": "code",
      "source": [
        "from sklearn.ensemble import StackingClassifier\n",
        "level0 = list()\n",
        "level0.append(('dt', DecisionTreeClassifier()))\n",
        "level0.append(('svm', SVC()))\n",
        "level0.append(('xgb', XGBClassifier()))\n",
        "level0.append(('rf', RandomForestClassifier(max_depth=2, random_state=0)))\n",
        "# define meta learner model\n",
        "level1 = LogisticRegression()\n",
        "# define the stacking ensemble\n",
        "sc1 = StackingClassifier(estimators=level0, final_estimator=level1, cv=5)"
      ],
      "metadata": {
        "id": "4UzwCzn6nDok"
      },
      "id": "4UzwCzn6nDok",
      "execution_count": null,
      "outputs": []
    },
    {
      "cell_type": "code",
      "source": [
        "level0 = list()\n",
        "level0.append(('svm', SVC()))\n",
        "level0.append(('xgb', XGBClassifier()))\n",
        "level0.append(('rf', RandomForestClassifier(max_depth=2, random_state=0)))\n",
        "# define meta learner model\n",
        "level1 = LogisticRegression()\n",
        "# define the stacking ensemble\n",
        "sc2 = StackingClassifier(estimators=level0, final_estimator=level1, cv=5)"
      ],
      "metadata": {
        "id": "GGDgAFgknqM6"
      },
      "id": "GGDgAFgknqM6",
      "execution_count": null,
      "outputs": []
    },
    {
      "cell_type": "code",
      "source": [
        "level0 = list()\n",
        "level0.append(('dt', DecisionTreeClassifier()))\n",
        "level0.append(('xgb', XGBClassifier()))\n",
        "level0.append(('rf', RandomForestClassifier(max_depth=2, random_state=0)))\n",
        "# define meta learner model\n",
        "level1 = LogisticRegression()\n",
        "# define the stacking ensemble\n",
        "sc3 = StackingClassifier(estimators=level0, final_estimator=level1, cv=5)"
      ],
      "metadata": {
        "id": "ObYS0Fv1nzZC"
      },
      "id": "ObYS0Fv1nzZC",
      "execution_count": null,
      "outputs": []
    },
    {
      "cell_type": "code",
      "source": [],
      "metadata": {
        "id": "uthEPOMpptnC"
      },
      "id": "uthEPOMpptnC",
      "execution_count": null,
      "outputs": []
    },
    {
      "cell_type": "markdown",
      "source": [
        "### Week1"
      ],
      "metadata": {
        "id": "d0vuEsYIoPt6"
      },
      "id": "d0vuEsYIoPt6"
    },
    {
      "cell_type": "markdown",
      "source": [
        "#### Ensemble 1 - DT, SVM, XGB, Random Forest"
      ],
      "metadata": {
        "id": "NN27sZudoS25"
      },
      "id": "NN27sZudoS25"
    },
    {
      "cell_type": "code",
      "source": [
        "sc1.fit(x_train1,y_train1)\n",
        "predictions_st1_4 = sc1.predict(x_test1)\n",
        "print(classification_report(y_test1,predictions_st1_4))"
      ],
      "metadata": {
        "colab": {
          "base_uri": "https://localhost:8080/"
        },
        "id": "O5K5H2mRo0cZ",
        "outputId": "1fae29f2-24e7-41b0-b180-96fbe53a836d"
      },
      "id": "O5K5H2mRo0cZ",
      "execution_count": null,
      "outputs": [
        {
          "output_type": "stream",
          "name": "stdout",
          "text": [
            "              precision    recall  f1-score   support\n",
            "\n",
            "           0       0.90      0.86      0.88      3423\n",
            "           1       0.87      0.90      0.88      3384\n",
            "\n",
            "    accuracy                           0.88      6807\n",
            "   macro avg       0.88      0.88      0.88      6807\n",
            "weighted avg       0.88      0.88      0.88      6807\n",
            "\n"
          ]
        }
      ]
    },
    {
      "cell_type": "code",
      "source": [
        "print(accuracy_score(y_test1, predictions_st1_4), roc_auc_score(y_test1, predictions_st1_4))"
      ],
      "metadata": {
        "colab": {
          "base_uri": "https://localhost:8080/"
        },
        "id": "PHpp5XS3c1Ec",
        "outputId": "a98f015b-d23e-4472-ebb4-90fdaa505e41"
      },
      "id": "PHpp5XS3c1Ec",
      "execution_count": null,
      "outputs": [
        {
          "output_type": "stream",
          "name": "stdout",
          "text": [
            "0.8824739239018657 0.882577805955955\n"
          ]
        }
      ]
    },
    {
      "cell_type": "markdown",
      "source": [
        "#### Ensemble 2 - SVM, XGB, Random Forest"
      ],
      "metadata": {
        "id": "orDhtSUdop9B"
      },
      "id": "orDhtSUdop9B"
    },
    {
      "cell_type": "code",
      "source": [
        "sc2.fit(x_train1,y_train1)\n",
        "predictions_st = sc2.predict(x_test1)\n",
        "print(classification_report(y_test1,predictions_st))"
      ],
      "metadata": {
        "colab": {
          "base_uri": "https://localhost:8080/"
        },
        "id": "kRUGd3NXpAKg",
        "outputId": "f354d8ca-a9ed-4cf0-a00b-7ce9dcae8dc0"
      },
      "id": "kRUGd3NXpAKg",
      "execution_count": null,
      "outputs": [
        {
          "output_type": "stream",
          "name": "stdout",
          "text": [
            "              precision    recall  f1-score   support\n",
            "\n",
            "           0       0.90      0.86      0.88      3423\n",
            "           1       0.87      0.90      0.88      3384\n",
            "\n",
            "    accuracy                           0.88      6807\n",
            "   macro avg       0.88      0.88      0.88      6807\n",
            "weighted avg       0.88      0.88      0.88      6807\n",
            "\n"
          ]
        }
      ]
    },
    {
      "cell_type": "markdown",
      "source": [
        "#### Ensemble 3 - DT, XGB, Random Forest"
      ],
      "metadata": {
        "id": "a7iqhGr5oxRh"
      },
      "id": "a7iqhGr5oxRh"
    },
    {
      "cell_type": "code",
      "source": [
        "sc3.fit(x_train1,y_train1)\n",
        "predictions_st1_3 = sc3.predict(x_test1)\n",
        "print(classification_report(y_test1,predictions_st1_3))"
      ],
      "metadata": {
        "colab": {
          "base_uri": "https://localhost:8080/"
        },
        "id": "ZwK7QVOcpLWB",
        "outputId": "c1642689-44fd-48a9-9384-06c2b3bc71ca"
      },
      "id": "ZwK7QVOcpLWB",
      "execution_count": null,
      "outputs": [
        {
          "output_type": "stream",
          "name": "stdout",
          "text": [
            "              precision    recall  f1-score   support\n",
            "\n",
            "           0       0.89      0.87      0.88      3423\n",
            "           1       0.87      0.89      0.88      3384\n",
            "\n",
            "    accuracy                           0.88      6807\n",
            "   macro avg       0.88      0.88      0.88      6807\n",
            "weighted avg       0.88      0.88      0.88      6807\n",
            "\n"
          ]
        }
      ]
    },
    {
      "cell_type": "code",
      "source": [
        "print(accuracy_score(y_test1, predictions_st1_3), roc_auc_score(y_test1, predictions_st1_3))"
      ],
      "metadata": {
        "id": "c0LezNUPpziq",
        "colab": {
          "base_uri": "https://localhost:8080/"
        },
        "outputId": "254f8deb-ec1f-4b3c-a7fb-b74ae619caf0"
      },
      "execution_count": null,
      "outputs": [
        {
          "output_type": "stream",
          "name": "stdout",
          "text": [
            "0.8808579403555163 0.8809373594975997\n"
          ]
        }
      ],
      "id": "c0LezNUPpziq"
    },
    {
      "cell_type": "markdown",
      "source": [
        "### Week1 + Week 2"
      ],
      "metadata": {
        "id": "WuFuMOUopzir"
      },
      "id": "WuFuMOUopzir"
    },
    {
      "cell_type": "markdown",
      "source": [
        "#### Ensemble 1 - DT, SVM, XGB, Random Forest"
      ],
      "metadata": {
        "id": "jtLSlco9pzir"
      },
      "id": "jtLSlco9pzir"
    },
    {
      "cell_type": "code",
      "source": [
        "sc1.fit(x_train12,y_train12)\n",
        "predictions_st12_4 = sc1.predict(x_test12)\n",
        "print(classification_report(y_test12,predictions_st12_4))"
      ],
      "metadata": {
        "colab": {
          "base_uri": "https://localhost:8080/"
        },
        "id": "KCmyXesDpzir",
        "outputId": "3d74bce9-c944-41f9-daec-5b7f186bb473"
      },
      "execution_count": null,
      "outputs": [
        {
          "output_type": "stream",
          "name": "stdout",
          "text": [
            "              precision    recall  f1-score   support\n",
            "\n",
            "           0       0.92      0.86      0.89      4487\n",
            "           1       0.86      0.92      0.89      4411\n",
            "\n",
            "    accuracy                           0.89      8898\n",
            "   macro avg       0.89      0.89      0.89      8898\n",
            "weighted avg       0.89      0.89      0.89      8898\n",
            "\n"
          ]
        }
      ],
      "id": "KCmyXesDpzir"
    },
    {
      "cell_type": "code",
      "source": [
        "print(accuracy_score(y_test12, predictions_st12_4), roc_auc_score(y_test12, predictions_st12_4))"
      ],
      "metadata": {
        "colab": {
          "base_uri": "https://localhost:8080/"
        },
        "id": "e_TAU0rzdnW0",
        "outputId": "cf3a0d4e-bc92-4132-f05b-3a1302c9f68d"
      },
      "id": "e_TAU0rzdnW0",
      "execution_count": null,
      "outputs": [
        {
          "output_type": "stream",
          "name": "stdout",
          "text": [
            "0.8893009665093279 0.889585682854072\n"
          ]
        }
      ]
    },
    {
      "cell_type": "markdown",
      "source": [
        "#### Ensemble 2 - SVM, XGB, Random Forest"
      ],
      "metadata": {
        "id": "YSTdIuqspzis"
      },
      "id": "YSTdIuqspzis"
    },
    {
      "cell_type": "code",
      "source": [
        "sc2.fit(x_train12,y_train12)\n",
        "predictions_st = sc2.predict(x_test12)\n",
        "print(classification_report(y_test12,predictions_st))"
      ],
      "metadata": {
        "colab": {
          "base_uri": "https://localhost:8080/"
        },
        "id": "sRAU68P1pzis",
        "outputId": "24f3f89d-2d55-4415-a5ad-1c95861d7d18"
      },
      "execution_count": null,
      "outputs": [
        {
          "output_type": "stream",
          "name": "stdout",
          "text": [
            "              precision    recall  f1-score   support\n",
            "\n",
            "           0       0.92      0.86      0.88      4487\n",
            "           1       0.86      0.92      0.89      4411\n",
            "\n",
            "    accuracy                           0.89      8898\n",
            "   macro avg       0.89      0.89      0.89      8898\n",
            "weighted avg       0.89      0.89      0.89      8898\n",
            "\n"
          ]
        }
      ],
      "id": "sRAU68P1pzis"
    },
    {
      "cell_type": "markdown",
      "source": [
        "#### Ensemble 3 - DT, XGB, Random Forest"
      ],
      "metadata": {
        "id": "aTifUa-Spzis"
      },
      "id": "aTifUa-Spzis"
    },
    {
      "cell_type": "code",
      "source": [
        "sc3.fit(x_train12,y_train12)\n",
        "predictions_st12_3 = sc3.predict(x_test12)\n",
        "print(classification_report(y_test12,predictions_st12_3))"
      ],
      "metadata": {
        "colab": {
          "base_uri": "https://localhost:8080/"
        },
        "id": "b9RlRM1ypzis",
        "outputId": "5ad9e3a2-5737-47ac-9f35-835fea512edf"
      },
      "execution_count": null,
      "outputs": [
        {
          "output_type": "stream",
          "name": "stdout",
          "text": [
            "              precision    recall  f1-score   support\n",
            "\n",
            "           0       0.92      0.86      0.89      4487\n",
            "           1       0.86      0.92      0.89      4411\n",
            "\n",
            "    accuracy                           0.89      8898\n",
            "   macro avg       0.89      0.89      0.89      8898\n",
            "weighted avg       0.89      0.89      0.89      8898\n",
            "\n"
          ]
        }
      ],
      "id": "b9RlRM1ypzis"
    },
    {
      "cell_type": "code",
      "source": [
        "print(accuracy_score(y_test12, predictions_st12_3), roc_auc_score(y_test12, predictions_st12_3))"
      ],
      "metadata": {
        "id": "xkdTnXMTqHFh",
        "colab": {
          "base_uri": "https://localhost:8080/"
        },
        "outputId": "142e410c-0d4e-45b5-cc47-b1d0ad5f08e3"
      },
      "execution_count": null,
      "outputs": [
        {
          "output_type": "stream",
          "name": "stdout",
          "text": [
            "0.8895257361204765 0.8898066289591378\n"
          ]
        }
      ],
      "id": "xkdTnXMTqHFh"
    },
    {
      "cell_type": "markdown",
      "source": [
        "### Week 1 + Week 2 + Week 3"
      ],
      "metadata": {
        "id": "FLpJrAObqHFh"
      },
      "id": "FLpJrAObqHFh"
    },
    {
      "cell_type": "markdown",
      "source": [
        "#### Ensemble 1 - DT, SVM, XGB, Random Forest"
      ],
      "metadata": {
        "id": "fWOSCtY2qHFh"
      },
      "id": "fWOSCtY2qHFh"
    },
    {
      "cell_type": "code",
      "source": [
        "sc1.fit(x_train123,y_train123)\n",
        "predictions_st123_4 = sc1.predict(x_test123)\n",
        "print(classification_report(y_test123,predictions_st123_4))"
      ],
      "metadata": {
        "colab": {
          "base_uri": "https://localhost:8080/"
        },
        "id": "vqYh-_EeqHFi",
        "outputId": "f8ffa3ab-c870-4536-9500-296d312c6e95"
      },
      "execution_count": null,
      "outputs": [
        {
          "output_type": "stream",
          "name": "stdout",
          "text": [
            "              precision    recall  f1-score   support\n",
            "\n",
            "           0       0.81      0.81      0.81      1704\n",
            "           1       0.81      0.80      0.81      1671\n",
            "\n",
            "    accuracy                           0.81      3375\n",
            "   macro avg       0.81      0.81      0.81      3375\n",
            "weighted avg       0.81      0.81      0.81      3375\n",
            "\n"
          ]
        }
      ],
      "id": "vqYh-_EeqHFi"
    },
    {
      "cell_type": "code",
      "source": [
        "print(accuracy_score(y_test123, predictions_st123_4), roc_auc_score(y_test123, predictions_st123_4))"
      ],
      "metadata": {
        "colab": {
          "base_uri": "https://localhost:8080/"
        },
        "id": "YH5Fu6-hdv8X",
        "outputId": "49336c34-4c20-4f6f-eea6-4412a46382b6"
      },
      "id": "YH5Fu6-hdv8X",
      "execution_count": null,
      "outputs": [
        {
          "output_type": "stream",
          "name": "stdout",
          "text": [
            "0.808 0.8079584629259698\n"
          ]
        }
      ]
    },
    {
      "cell_type": "markdown",
      "source": [
        "#### Ensemble 2 - SVM, XGB, Random Forest"
      ],
      "metadata": {
        "id": "5jJOMauZqHFi"
      },
      "id": "5jJOMauZqHFi"
    },
    {
      "cell_type": "code",
      "source": [
        "sc2.fit(x_train123,y_train123)\n",
        "predictions_st = sc2.predict(x_test123)\n",
        "print(classification_report(y_test123,predictions_st))"
      ],
      "metadata": {
        "colab": {
          "base_uri": "https://localhost:8080/"
        },
        "id": "AlQcROniqHFi",
        "outputId": "081b5ef9-8ecd-47b3-f37b-97b6fdc38b23"
      },
      "execution_count": null,
      "outputs": [
        {
          "output_type": "stream",
          "name": "stdout",
          "text": [
            "              precision    recall  f1-score   support\n",
            "\n",
            "           0       0.81      0.81      0.81      1704\n",
            "           1       0.81      0.80      0.81      1671\n",
            "\n",
            "    accuracy                           0.81      3375\n",
            "   macro avg       0.81      0.81      0.81      3375\n",
            "weighted avg       0.81      0.81      0.81      3375\n",
            "\n"
          ]
        }
      ],
      "id": "AlQcROniqHFi"
    },
    {
      "cell_type": "markdown",
      "source": [
        "#### Ensemble 3 - DT, XGB, Random Forest"
      ],
      "metadata": {
        "id": "5mWh9CXyqHFi"
      },
      "id": "5mWh9CXyqHFi"
    },
    {
      "cell_type": "code",
      "source": [
        "sc3.fit(x_train123,y_train123)\n",
        "predictions_st123_3 = sc3.predict(x_test123)\n",
        "print(classification_report(y_test123,predictions_st123_3))"
      ],
      "metadata": {
        "colab": {
          "base_uri": "https://localhost:8080/"
        },
        "id": "l937rdOcqHFi",
        "outputId": "b860e4ea-0937-4c6c-b574-f92bc81e02ef"
      },
      "execution_count": null,
      "outputs": [
        {
          "output_type": "stream",
          "name": "stdout",
          "text": [
            "              precision    recall  f1-score   support\n",
            "\n",
            "           0       0.81      0.81      0.81      1704\n",
            "           1       0.81      0.80      0.80      1671\n",
            "\n",
            "    accuracy                           0.81      3375\n",
            "   macro avg       0.81      0.81      0.81      3375\n",
            "weighted avg       0.81      0.81      0.81      3375\n",
            "\n"
          ]
        }
      ],
      "id": "l937rdOcqHFi"
    },
    {
      "cell_type": "code",
      "source": [
        "print(accuracy_score(y_test123, predictions_st123_3), roc_auc_score(y_test123, predictions_st123_3))"
      ],
      "metadata": {
        "id": "uw115PMfqp_u",
        "colab": {
          "base_uri": "https://localhost:8080/"
        },
        "outputId": "c3575620-8f0d-4b36-b1a7-edebf2877349"
      },
      "execution_count": null,
      "outputs": [
        {
          "output_type": "stream",
          "name": "stdout",
          "text": [
            "0.8068148148148148 0.8067847540057822\n"
          ]
        }
      ],
      "id": "uw115PMfqp_u"
    },
    {
      "cell_type": "markdown",
      "source": [
        "### Week 1 + Week 2 + Week 3 + Week 4"
      ],
      "metadata": {
        "id": "f7UNFt-7qp_u"
      },
      "id": "f7UNFt-7qp_u"
    },
    {
      "cell_type": "markdown",
      "source": [
        "#### Ensemble 1 - DT, SVM, XGB, Random Forest"
      ],
      "metadata": {
        "id": "LctIT5pqqp_u"
      },
      "id": "LctIT5pqqp_u"
    },
    {
      "cell_type": "code",
      "source": [
        "sc1.fit(x_train1234,y_train1234)\n",
        "predictions_st1234_4 = sc1.predict(x_test1234)\n",
        "print(classification_report(y_test1234,predictions_st1234_4))"
      ],
      "metadata": {
        "colab": {
          "base_uri": "https://localhost:8080/"
        },
        "id": "lh9tuTsqqp_u",
        "outputId": "d0cb3ae5-f9a2-41fb-f5f0-aa7a554797a0"
      },
      "execution_count": null,
      "outputs": [
        {
          "output_type": "stream",
          "name": "stdout",
          "text": [
            "              precision    recall  f1-score   support\n",
            "\n",
            "           0       0.94      0.89      0.91      8811\n",
            "           1       0.89      0.95      0.92      8951\n",
            "\n",
            "    accuracy                           0.92     17762\n",
            "   macro avg       0.92      0.92      0.92     17762\n",
            "weighted avg       0.92      0.92      0.92     17762\n",
            "\n"
          ]
        }
      ],
      "id": "lh9tuTsqqp_u"
    },
    {
      "cell_type": "code",
      "source": [
        "print(accuracy_score(y_test1234, predictions_st1234_4), roc_auc_score(y_test1234, predictions_st1234_4))"
      ],
      "metadata": {
        "colab": {
          "base_uri": "https://localhost:8080/"
        },
        "id": "YCUBg19PeSel",
        "outputId": "81d79412-749a-473c-84e5-d106fb705794"
      },
      "id": "YCUBg19PeSel",
      "execution_count": null,
      "outputs": [
        {
          "output_type": "stream",
          "name": "stdout",
          "text": [
            "0.91673234996059 0.9164950777230618\n"
          ]
        }
      ]
    },
    {
      "cell_type": "markdown",
      "source": [
        "#### Ensemble 2 - SVM, XGB, Random Forest"
      ],
      "metadata": {
        "id": "tvfPQQzMqp_u"
      },
      "id": "tvfPQQzMqp_u"
    },
    {
      "cell_type": "code",
      "source": [
        "sc2.fit(x_train1234,y_train1234)\n",
        "predictions_st = sc2.predict(x_test1234)\n",
        "print(classification_report(y_test1234,predictions_st))"
      ],
      "metadata": {
        "colab": {
          "base_uri": "https://localhost:8080/"
        },
        "id": "mi3LnyC5qp_v",
        "outputId": "90e77248-e0fa-4ba5-a7ad-802cc8279a46"
      },
      "execution_count": null,
      "outputs": [
        {
          "output_type": "stream",
          "name": "stdout",
          "text": [
            "              precision    recall  f1-score   support\n",
            "\n",
            "           0       0.94      0.88      0.91      8811\n",
            "           1       0.89      0.94      0.92      8951\n",
            "\n",
            "    accuracy                           0.91     17762\n",
            "   macro avg       0.91      0.91      0.91     17762\n",
            "weighted avg       0.91      0.91      0.91     17762\n",
            "\n"
          ]
        }
      ],
      "id": "mi3LnyC5qp_v"
    },
    {
      "cell_type": "markdown",
      "source": [
        "#### Ensemble 3 - DT, XGB, Random Forest"
      ],
      "metadata": {
        "id": "MqQ3LQ8tqp_v"
      },
      "id": "MqQ3LQ8tqp_v"
    },
    {
      "cell_type": "code",
      "source": [
        "sc3.fit(x_train1234,y_train1234)\n",
        "predictions_st1234_3 = sc3.predict(x_test1234)\n",
        "print(classification_report(y_test1234,predictions_st1234_3))"
      ],
      "metadata": {
        "colab": {
          "base_uri": "https://localhost:8080/"
        },
        "id": "34iJCJfUqp_v",
        "outputId": "937f4bd0-9e40-4818-8885-d57f2749f25b"
      },
      "execution_count": null,
      "outputs": [
        {
          "output_type": "stream",
          "name": "stdout",
          "text": [
            "              precision    recall  f1-score   support\n",
            "\n",
            "           0       0.94      0.89      0.91      8811\n",
            "           1       0.89      0.95      0.92      8951\n",
            "\n",
            "    accuracy                           0.92     17762\n",
            "   macro avg       0.92      0.92      0.92     17762\n",
            "weighted avg       0.92      0.92      0.92     17762\n",
            "\n"
          ]
        }
      ],
      "id": "34iJCJfUqp_v"
    },
    {
      "cell_type": "code",
      "source": [
        "print(accuracy_score(y_test1234, predictions_st1234_3), roc_auc_score(y_test1234, predictions_st1234_3))"
      ],
      "metadata": {
        "colab": {
          "base_uri": "https://localhost:8080/"
        },
        "id": "FNMSEedReXb3",
        "outputId": "9483bd8f-1bd8-48f5-aa1f-0ff18b1c7c43"
      },
      "id": "FNMSEedReXb3",
      "execution_count": null,
      "outputs": [
        {
          "output_type": "stream",
          "name": "stdout",
          "text": [
            "0.9169575498254701 0.9167185164449922\n"
          ]
        }
      ]
    },
    {
      "cell_type": "code",
      "execution_count": null,
      "id": "3bd9871b",
      "metadata": {
        "id": "3bd9871b",
        "colab": {
          "base_uri": "https://localhost:8080/"
        },
        "outputId": "2af11edb-d150-4cbf-95e0-aeb5246c7461"
      },
      "outputs": [
        {
          "output_type": "execute_result",
          "data": {
            "text/plain": [
              "1    11345\n",
              "0     3143\n",
              "Name: label, dtype: int64"
            ]
          },
          "metadata": {},
          "execution_count": 57
        }
      ],
      "source": [
        "y1.value_counts()"
      ]
    },
    {
      "cell_type": "code",
      "execution_count": null,
      "id": "96df9f57",
      "metadata": {
        "id": "96df9f57",
        "colab": {
          "base_uri": "https://localhost:8080/"
        },
        "outputId": "27c431dc-b435-4a1a-ee34-79a2efdf8a7c"
      },
      "outputs": [
        {
          "output_type": "execute_result",
          "data": {
            "text/plain": [
              "1    14829\n",
              "0     3730\n",
              "Name: label, dtype: int64"
            ]
          },
          "metadata": {},
          "execution_count": 58
        }
      ],
      "source": [
        "y12.value_counts()"
      ]
    },
    {
      "cell_type": "code",
      "execution_count": null,
      "id": "988da7f4",
      "metadata": {
        "id": "988da7f4",
        "colab": {
          "base_uri": "https://localhost:8080/"
        },
        "outputId": "eae17db6-3d30-46ca-fa13-c20f85fa8038"
      },
      "outputs": [
        {
          "output_type": "execute_result",
          "data": {
            "text/plain": [
              "1    5624\n",
              "0    3071\n",
              "Name: label, dtype: int64"
            ]
          },
          "metadata": {},
          "execution_count": 59
        }
      ],
      "source": [
        "y123.value_counts()"
      ]
    },
    {
      "cell_type": "code",
      "execution_count": null,
      "id": "9e667d30",
      "metadata": {
        "id": "9e667d30",
        "colab": {
          "base_uri": "https://localhost:8080/"
        },
        "outputId": "f5083e82-a290-472c-edd0-cc054be5c089"
      },
      "outputs": [
        {
          "output_type": "execute_result",
          "data": {
            "text/plain": [
              "1    29603\n",
              "0     6541\n",
              "Name: label, dtype: int64"
            ]
          },
          "metadata": {},
          "execution_count": 60
        }
      ],
      "source": [
        "y1234.value_counts()"
      ]
    },
    {
      "cell_type": "markdown",
      "source": [
        "### Graphs"
      ],
      "metadata": {
        "id": "FYt2vblNxqmi"
      },
      "id": "FYt2vblNxqmi"
    },
    {
      "cell_type": "code",
      "source": [
        "# Accuracy graph - 4 models\n",
        "x1 = ['1','1-2','1-3','1-4']\n",
        "y1 = [accuracy_score(y_test1, predictions_st1_4), accuracy_score(y_test12, predictions_st12_4), accuracy_score(y_test123, predictions_st123_4), accuracy_score(y_test1234, predictions_st1234_4)]\n",
        "plt.plot(x1, y1)\n",
        "plt.xlabel(\"Weeks(start of week-i to end of week-j)\")\n",
        "plt.ylabel(\"Accuracy\")\n",
        "plt.savefig('weeks_vs_accuracy_4models1.png')\n",
        "#plt.show()"
      ],
      "metadata": {
        "id": "GbbC4nmZef0J",
        "colab": {
          "base_uri": "https://localhost:8080/",
          "height": 279
        },
        "outputId": "033547cb-a2d0-4113-de1c-7861fc245f7c"
      },
      "execution_count": null,
      "outputs": [
        {
          "output_type": "display_data",
          "data": {
            "text/plain": [
              "<Figure size 432x288 with 1 Axes>"
            ],
            "image/png": "[encoded data removed]"
          },
          "metadata": {
            "needs_background": "light"
          }
        }
      ],
      "id": "GbbC4nmZef0J"
    },
    {
      "cell_type": "code",
      "source": [
        "# AUC graph - 4 models\n",
        "x1 = ['1','1-2','1-3','1-4']\n",
        "y1 = [roc_auc_score(y_test1, predictions_st1_4), roc_auc_score(y_test12, predictions_st12_4), roc_auc_score(y_test123, predictions_st123_4), roc_auc_score(y_test1234, predictions_st1234_4)]\n",
        "plt.plot(x1, y1)\n",
        "  \n",
        "plt.xlabel(\"Weeks(start of week-i to end of week-j)\")\n",
        "plt.ylabel(\"AUC\")\n",
        "plt.savefig('weeks_vs_AUC_4models1.png')\n",
        "plt.show()"
      ],
      "metadata": {
        "id": "jHECeyjUjOFJ",
        "colab": {
          "base_uri": "https://localhost:8080/",
          "height": 280
        },
        "outputId": "55f0af03-62e9-4d75-cdcc-90cdd53ee39e"
      },
      "execution_count": null,
      "outputs": [
        {
          "output_type": "display_data",
          "data": {
            "text/plain": [
              "<Figure size 432x288 with 1 Axes>"
            ],
            "image/png": "[encoded data removed]"
          },
          "metadata": {
            "needs_background": "light"
          }
        }
      ],
      "id": "jHECeyjUjOFJ"
    },
    {
      "cell_type": "code",
      "source": [
        "# Accuracy graph - 3 models\n",
        "x1 = ['1','1-2','1-3','1-4']\n",
        "y1 = [accuracy_score(y_test1, predictions_st1_3), accuracy_score(y_test12, predictions_st12_3), accuracy_score(y_test123, predictions_st123_3), accuracy_score(y_test1234, predictions_st1234_3)]\n",
        "plt.plot(x1, y1)\n",
        "  \n",
        "plt.xlabel(\"Weeks(start of week-i to end of week-j)\")\n",
        "plt.ylabel(\"Accuracy\")\n",
        "plt.savefig('weeks_vs_accuracy_3models1.png')\n",
        "#plt.show()"
      ],
      "metadata": {
        "id": "URcHMVArnlnc",
        "colab": {
          "base_uri": "https://localhost:8080/",
          "height": 279
        },
        "outputId": "225ecf58-a5c6-4217-a182-1f8973fa356c"
      },
      "execution_count": null,
      "outputs": [
        {
          "output_type": "display_data",
          "data": {
            "text/plain": [
              "<Figure size 432x288 with 1 Axes>"
            ],
            "image/png": "[encoded data removed]"
          },
          "metadata": {
            "needs_background": "light"
          }
        }
      ],
      "id": "URcHMVArnlnc"
    },
    {
      "cell_type": "code",
      "source": [
        "# AUC graph - 3 models\n",
        "x1 = ['1','1-2','1-3','1-4']\n",
        "y1 = [roc_auc_score(y_test1, predictions_st1_3), roc_auc_score(y_test12, predictions_st12_3), roc_auc_score(y_test123, predictions_st123_3), roc_auc_score(y_test1234, predictions_st1234_3)]\n",
        "plt.plot(x1, y1)\n",
        "  \n",
        "plt.xlabel(\"Weeks(start of week-i to end of week-j)\")\n",
        "plt.ylabel(\"AUC\")\n",
        "plt.savefig('weeks_vs_AUC_3models1.png')\n",
        "plt.show()"
      ],
      "metadata": {
        "id": "pwbgY8syom20",
        "colab": {
          "base_uri": "https://localhost:8080/",
          "height": 279
        },
        "outputId": "60272c3f-b237-4574-8198-90f65875dff4"
      },
      "execution_count": null,
      "outputs": [
        {
          "output_type": "display_data",
          "data": {
            "text/plain": [
              "<Figure size 432x288 with 1 Axes>"
            ],
            "image/png": "[encoded data removed]"
          },
          "metadata": {
            "needs_background": "light"
          }
        }
      ],
      "id": "pwbgY8syom20"
    }
  ],
  "metadata": {
    "colab": {
      "provenance": [],
      "collapsed_sections": [
        "85b14360",
        "463a3c36",
        "5f43b1e1",
        "c40f2aa0",
        "fca544f7",
        "HUWQc46GVctZ",
        "SLnJlttEWBRC",
        "X3LVwH8sW0mb",
        "loy4veamXVog",
        "X0dbW3MqQaqb",
        "orJnhPqFQf9E",
        "P5-tCEhGQmKG",
        "Rd2wTVGNXxHC",
        "3dc8bd98",
        "iXr9OjuGYqJy",
        "STNOlxr-Y0de",
        "kPziLdTZa_E5",
        "T3PdHi8LZw4g",
        "Afy_qIpfagYm",
        "wmF6r9KuarE2",
        "QKOey6h-cG07",
        "GiLvSG87cKaG",
        "7VIX6vyycklu",
        "HzueAJljp4vy",
        "8dwqt3XOqNn2",
        "Seul6OBur0Ou",
        "flARVj-MdV9z",
        "LXG8eCyjdcLG"
      ]
    },
    "kernelspec": {
      "display_name": "Python 3 (ipykernel)",
      "language": "python",
      "name": "python3"
    },
    "language_info": {
      "codemirror_mode": {
        "name": "ipython",
        "version": 3
      },
      "file_extension": ".py",
      "mimetype": "text/x-python",
      "name": "python",
      "nbconvert_exporter": "python",
      "pygments_lexer": "ipython3",
      "version": "3.9.12"
    }
  },
  "nbformat": 4,
  "nbformat_minor": 5
}